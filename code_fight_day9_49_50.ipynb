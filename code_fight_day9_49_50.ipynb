{
  "nbformat": 4,
  "nbformat_minor": 0,
  "metadata": {
    "colab": {
      "name": "code_fight_day9_49-50.ipynb",
      "provenance": [],
      "collapsed_sections": [],
      "authorship_tag": "ABX9TyMjtctSpPOPtVdyQuocE0TV",
      "include_colab_link": true
    },
    "kernelspec": {
      "name": "python3",
      "display_name": "Python 3"
    }
  },
  "cells": [
    {
      "cell_type": "markdown",
      "metadata": {
        "id": "view-in-github",
        "colab_type": "text"
      },
      "source": [
        "<a href=\"https://colab.research.google.com/github/teang1995/python_study/blob/master/code_fight_day9_49_50.ipynb\" target=\"_parent\"><img src=\"https://colab.research.google.com/assets/colab-badge.svg\" alt=\"Open In Colab\"/></a>"
      ]
    },
    {
      "cell_type": "markdown",
      "metadata": {
        "id": "TFaleJ2EPFWv",
        "colab_type": "text"
      },
      "source": [
        "**intro49.lineEncoding**\n",
        "\n",
        "First, the string is divided into the least possible number of disjoint substrings consisting of identical characters\n",
        "\n",
        "\n",
        "for example, \"aabbbc\" is divided into [\"aa\", \"bbb\", \"c\"]\n",
        "\n",
        "\n",
        "Next, each substring with length greater than one is replaced with a concatenation of its length and the repeating character\n",
        "\n",
        "\n",
        "for example, substring \"bbb\" is replaced by \"3b\"\n",
        "\n",
        "\n",
        "Finally, all the new strings are concatenated together in the same order and a new string is returned."
      ]
    },
    {
      "cell_type": "code",
      "metadata": {
        "id": "w5OnXEzgGdbS",
        "colab_type": "code",
        "colab": {}
      },
      "source": [
        "def lineEncoding(s) :\n",
        "  s = list(s)\n",
        "  len_s = len(s) \n",
        "  s.reverse()\n",
        "  temp_count = 1\n",
        "  answer = \"\"\n",
        "  ch =\"\"\n",
        "  for i in range(len_s - 1) :\n",
        "    ch = s.pop()\n",
        "    #pop해서 봤더니 마지막 거랑 다르면\n",
        "    if ch != s[len(s) - 1]:\n",
        "      #한 번 나타났으 면\n",
        "      if temp_count == 1:\n",
        "        #그냥 한 번 더해준다\n",
        "        answer += ch\n",
        "      #여러 번 나타났으면\n",
        "      else:\n",
        "        answer = answer + str(temp_count) + ch  \n",
        "      temp_count = 1\n",
        "    #같으면\n",
        "    else :\n",
        "      temp_count += 1 \n",
        "  #마지막 문자가 하나 남는다.\n",
        "  #만약 그 문자가 한 번 나타났다면\n",
        "  if temp_count == 1 :\n",
        "    #그냥 한 번 더해준다\n",
        "    answer += s.pop()\n",
        "  #아니라면\n",
        "  else :\n",
        "    #count를 함께 더해준다\n",
        "    answer = answer + str(temp_count) + ch  \n",
        "  return answer"
      ],
      "execution_count": 0,
      "outputs": []
    },
    {
      "cell_type": "markdown",
      "metadata": {
        "id": "MwBZfHLmgNyI",
        "colab_type": "text"
      },
      "source": [
        "**intro50.chessKnight**\n",
        "\n",
        "Given a position of a knight on the standard chessboard, find the number of different moves the knight can perform.\n",
        "\n",
        "The knight can move to a square that is two squares horizontally and one square vertically, or two squares vertically and one square horizontally away from it. The complete move therefore looks like the letter L. Check out the image below to see all valid moves for a knight piece that is placed on one of the central squares.\n"
      ]
    },
    {
      "cell_type": "code",
      "metadata": {
        "id": "aD-G9nS7gTeZ",
        "colab_type": "code",
        "colab": {
          "base_uri": "https://localhost:8080/",
          "height": 34
        },
        "outputId": "1f9b4f25-dc58-4983-c859-15e0a8542f53"
      },
      "source": [
        "'''\n",
        "ord(a) = 97\n",
        "ord(h) = 104\n",
        "'''\n",
        "def chessKnight(cell):\n",
        "  #cell : \"a1\" \n",
        "  #ch : \"a\"\n",
        "  #num : \"1\"\n",
        "  answer = 0\n",
        "  ch = ord(cell[0])\n",
        "  num = int(cell[1])\n",
        "  move_list = [[-2,-1],[-2,1],[2,1],[2,-1],[1,-2],[1,2],[-1,-2],[-1,2]]\n",
        "  for move in move_list :\n",
        "    temp_x = ch + move[0]\n",
        "    temp_y = num + move[1]\n",
        "    answer += (97 <= temp_x <= 104) and (1 <= temp_y <= 8) \n",
        "  return answer\n",
        "\n",
        "print(chessKnight(\"a1\"))"
      ],
      "execution_count": 11,
      "outputs": [
        {
          "output_type": "stream",
          "text": [
            "2\n"
          ],
          "name": "stdout"
        }
      ]
    }
  ]
}