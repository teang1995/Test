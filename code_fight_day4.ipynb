{
  "nbformat": 4,
  "nbformat_minor": 0,
  "metadata": {
    "colab": {
      "name": ".ipynb",
      "provenance": [],
      "authorship_tag": "ABX9TyNLeoPKM6YpnkLbf2OEVWmM",
      "include_colab_link": true
    },
    "kernelspec": {
      "name": "python3",
      "display_name": "Python 3"
    }
  },
  "cells": [
    {
      "cell_type": "markdown",
      "metadata": {
        "id": "view-in-github",
        "colab_type": "text"
      },
      "source": [
        "<a href=\"https://colab.research.google.com/github/teang1995/python_study/blob/master/code_fight_day4.ipynb\" target=\"_parent\"><img src=\"https://colab.research.google.com/assets/colab-badge.svg\" alt=\"Open In Colab\"/></a>"
      ]
    },
    {
      "cell_type": "markdown",
      "metadata": {
        "id": "1lv00NWD4S5d",
        "colab_type": "text"
      },
      "source": [
        "**intro21.isIPv4Address**"
      ]
    },
    {
      "cell_type": "code",
      "metadata": {
        "id": "UwXbOjNf37-h",
        "colab_type": "code",
        "colab": {}
      },
      "source": [
        "def isIPv4Address(inputString):\n",
        "  arr_split = inputString.split(\".\")\n",
        "  if len(arr_split) != 4 or \"\" in arr_split:\n",
        "    return False\n",
        "  else :\n",
        "    for i in range(4):\n",
        "      if arr_split[i].isdecimal():\n",
        "        arr_split[i] = int(arr_split[i])\n",
        "        pass\n",
        "      else:\n",
        "        return False\n",
        "  return max(arr_split) <= 255 and min(arr_split) >= 0\n",
        "'''\n",
        "IPv4주소란 , 네 자리의 숫자들이 세 개의 \".\"으로 구분되며\n",
        "각 자리의 숫자들이 0 이상 255이하의 값을 가지는 주소를 말한다.\n",
        "나는 우선 자릿수를 파악하고, 공백이 있다면 False를 반환했다.\n",
        "그 후, 각 자리가 숫자로만 이루어져있는지 isdecimal함수로 확인하고, \n",
        "그렇다면 int형으로 바꾸어 저장하고, 아니라면 false를 반환했다.\n",
        "그 후 리스트의 최댓값이 255 이하인지, 최솟값이 0 이하인지 따져 boolean값을 반환하였다.\n",
        "\n",
        "이하 sexy code\n",
        "def isIPv4Address(inputString):\n",
        "  p = inputString.split('.')\n",
        "  return len(p) == 4 and all(n.isdigit() and 0 <= int(n) < 256 for n in p)\n",
        "내가 짠 코드를 축약시킨 멋진 코드\n",
        "사실 첫 or에서 \"\"가 포함되어있는지 확인하는 과정은\n",
        "후의 isdecimal()에서 확인됨을 알 수 있었다.\n",
        "'''"
      ],
      "execution_count": 0,
      "outputs": []
    },
    {
      "cell_type": "markdown",
      "metadata": {
        "id": "4YF3rPW7---g",
        "colab_type": "text"
      },
      "source": [
        "**intro22.avoidObstacles**"
      ]
    },
    {
      "cell_type": "code",
      "metadata": {
        "id": "54o_uBNQ_EM8",
        "colab_type": "code",
        "colab": {}
      },
      "source": [
        "def avoidObstacles(inputArray):\n",
        "    min = 1\n",
        "    while 1:\n",
        "        if all(num % min != 0 for num in inputArray):\n",
        "            return min\n",
        "        min += 1\n",
        "'''\n",
        "all은 참 강력한 무기 같다.\n",
        "'''"
      ],
      "execution_count": 0,
      "outputs": []
    },
    {
      "cell_type": "markdown",
      "metadata": {
        "id": "AOJtDu00CICy",
        "colab_type": "text"
      },
      "source": [
        "**intro23.boxBlur**"
      ]
    },
    {
      "cell_type": "code",
      "metadata": {
        "id": "lJTTqrBUCMRH",
        "colab_type": "code",
        "colab": {}
      },
      "source": [
        "def boxBlur(image):\n",
        "  num_x = len(image[0]) - 2\n",
        "  num_y = len(image) - 2\n",
        "  answer = [[0 for j in range(num_x)] for i in range(num_y)]\n",
        "  for i in range(num_y):\n",
        "      for j in range(num_x):\n",
        "          answer[i][j] = (sum(image[l][m] for l in range(i,i+3) for m in range(j,j+3)))//9\n",
        "  return answer\n",
        "image=[[36,0,18,9], \n",
        " [27,54,9,0], \n",
        " [81,63,72,45]]\n",
        "print(boxBlur(image))\n",
        "\n",
        "'''\n",
        "그러니깐 이 문제는, \n",
        "3*3 average pooling을 이용해 blur처리된 배열을 출력하는 것이다.\n",
        "그런데 정말..\n",
        "와..4중포문은 진짜 처음 써본다..\n",
        "'''"
      ],
      "execution_count": 0,
      "outputs": []
    },
    {
      "cell_type": "markdown",
      "metadata": {
        "id": "IcZE18ZZOBaQ",
        "colab_type": "text"
      },
      "source": [
        "**intro24.Minesweeper**"
      ]
    },
    {
      "cell_type": "code",
      "metadata": {
        "id": "izE7sFakOHfG",
        "colab_type": "code",
        "colab": {}
      },
      "source": [
        "def minesweeper(matrix):\n",
        "  #return할 배열 answer 선언 및 0으로 초기화 \n",
        "  answer = [[0 for j in range(len(matrix[0]))] for i in range(len(matrix))]\n",
        "  #padding 구현 \n",
        "  temp = []\n",
        "  for i in range(len(matrix[0])+2) :  temp.append(False)\n",
        "  matrix.append(temp)\n",
        "  matrix.insert(0,temp)\n",
        "  for i in range(1,len(matrix)-1):\n",
        "    matrix[i].append(False)\n",
        "    matrix[i].insert(0,False)\n",
        "  #print(matrix) #for debugging\n",
        "  #탐색 시작.\n",
        "  for i in range(1,len(matrix) - 1):\n",
        "    for j in range(1,len(matrix[0]) - 1):\n",
        "      answer[i-1][j-1] = sum(matrix[l][m] for l in range(i - 1, i + 2) for m in range(j - 1 , j + 2)) - matrix[i][j] \n",
        "  return answer\n",
        "matrix = [[True,True,True], \n",
        " [True,True,True], \n",
        " [True,True,True]]\n",
        "print(minesweeper(matrix))\n",
        "\n",
        "'''\n",
        "0.문제 요약\n",
        "지뢰찾기 알지?\n",
        "폭탄의 위치가 주어지면, 지뢰찾기의 숫자를 완성하는 것이 문제다.\n",
        "주변(8방)의 폭탄의 갯수가 해당 셀의 값이 된다.\n",
        "'''\n",
        "'''\n",
        "1.풀기 전 생각\n",
        "일단 드는 생각은, answer배열을 선언한 후, \n",
        "초기화하려는 위치랑 같은 위치의 matrix 주위의 boolean을 조회한다..\n",
        "예외처리로는 outofRange문제?\n",
        "padding 개념을 도입하는 것도 괜찮은 방법일 것 같다. \n",
        "padding을 도입해보기로 했다.\n",
        "'''\n",
        "'''\n",
        "2.문제 성공 후\n",
        "패딩으로 푸는 것에 성공했다.\n",
        "def minesweeper(matrix):\n",
        "\n",
        "    r = []\n",
        "    \n",
        "    for i in range(len(matrix)):\n",
        "        r.append([])\n",
        "        for j in range(len(matrix[0])):\n",
        "            l = -matrix[i][j]\n",
        "            for x in [-1,0,1]:\n",
        "                for y in [-1,0,1]:\n",
        "                    if 0<=i+x<len(matrix) and 0<=j+y<len(matrix[0]):\n",
        "                        l += matrix[i+x][j+y]\n",
        "\n",
        "            r[i].append(l)\n",
        "    return r\n",
        "[출처] [python] codeSignal 문제풀이 (22~24)|작성자 Jun\n",
        "\n",
        "여기서 sexy code한 번 보고 가자면\n",
        "[-1,0,1]이라는 list를 선언해 여기서 range를 돌렸다는 점.\n",
        "그리고 범위를 재한햇다는점.\n",
        "그리고 미리 해당 위치의 값을 빼준다음에\n",
        "맘껏 더하게 할 수 있게끔 처리해주었다는 점\n",
        "참 멋진 코드다.\n",
        "'''"
      ],
      "execution_count": 0,
      "outputs": []
    },
    {
      "cell_type": "markdown",
      "metadata": {
        "id": "QAaob79KcaDK",
        "colab_type": "text"
      },
      "source": [
        "**intro25.Array Replace**"
      ]
    },
    {
      "cell_type": "code",
      "metadata": {
        "id": "sdc35B6fcdHw",
        "colab_type": "code",
        "colab": {}
      },
      "source": [
        "def arrayReplace(inputArray, elemToReplace, substitutionElem):\n",
        "  return [inputArray[i] if inputArray[i] != elemToReplace else substitutionElem  for i in range(len\n",
        "                                                                                                \n",
        "'''\n",
        "sexy code를 향한 나의 발악이 보이니\n",
        "아직 멀었지만..\n",
        "'''"
      ],
      "execution_count": 0,
      "outputs": []
    },
    {
      "cell_type": "markdown",
      "metadata": {
        "id": "qMuZpbLJdkBA",
        "colab_type": "text"
      },
      "source": [
        "**intro26.evenDigitsOnly**"
      ]
    },
    {
      "cell_type": "code",
      "metadata": {
        "id": "odaEbhugdoym",
        "colab_type": "code",
        "colab": {}
      },
      "source": [
        "def evenDigitsOnly(n):\n",
        "  digit_list = list(str(n))\n",
        "  return all(int(n) % 2 == 0 for n in digit_list) \n",
        "\n",
        "\n",
        "'''\n",
        "all만세,,\n",
        "'''"
      ],
      "execution_count": 0,
      "outputs": []
    }
  ]
}