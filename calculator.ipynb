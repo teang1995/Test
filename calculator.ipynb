{
  "nbformat": 4,
  "nbformat_minor": 0,
  "metadata": {
    "colab": {
      "name": "calculator.ipynb",
      "provenance": [],
      "collapsed_sections": [],
      "include_colab_link": true
    },
    "kernelspec": {
      "name": "python3",
      "display_name": "Python 3"
    }
  },
  "cells": [
    {
      "cell_type": "markdown",
      "metadata": {
        "id": "view-in-github",
        "colab_type": "text"
      },
      "source": [
        "<a href=\"https://colab.research.google.com/github/teang1995/python_study/blob/master/calculator.ipynb\" target=\"_parent\"><img src=\"https://colab.research.google.com/assets/colab-badge.svg\" alt=\"Open In Colab\"/></a>"
      ]
    },
    {
      "cell_type": "code",
      "metadata": {
        "id": "oVxKyltHDDXx",
        "colab_type": "code",
        "colab": {
          "base_uri": "https://localhost:8080/",
          "height": 143
        },
        "outputId": "c5dc92f4-950e-4d5f-98cb-0970b090934c"
      },
      "source": [
        "'''\n",
        "스택을 이용한 계산기 구현\n",
        "시작일 : 2020/01/04\n",
        "종료일 : 2020/01/07\n",
        "'''\n",
        "#연산자 우선순위 결정\n",
        "#중괄호,대괄후는 추후 구현->융전 미팅 끝나고 시작!\n",
        "import sys#예외상황 발생시 프로그램 종료를 위함\n",
        "def set_priority(op):\n",
        "  if op == \"(\" or op == \")\":\n",
        "    return 0\n",
        "  elif op == \"+\" or op == \"-\":\n",
        "    return 1\n",
        "  elif op == \"*\" or op == \"/\":\n",
        "    return 2\n",
        "  else:\n",
        "    return -1  \n",
        "\n",
        "#중위식을 후위식으로\n",
        "def infix_to_post_fix(data):\n",
        "  data.reverse()\n",
        "  postfix = []\n",
        "  stack = []\n",
        "  num_temp = \"\"\n",
        "  #입력 받은 식이 비워지기 전까지 뽑아낸다\n",
        "  while data != []:    \n",
        "    #소괄호가 입력으로 들어오면  \n",
        "    if set_priority(data[len(data)-1]) == 0:\n",
        "      #왼쪽 소괄호가 입력으로 들어오면 무조건 push\n",
        "      if data[len(data)-1] == \"(\":\n",
        "        stack.append(data.pop())\n",
        "      #오른쪽 소괄호가 들어오면 왼쪽 소괄호 발견할 때까지 pop\n",
        "      elif data[len(data)-1] == \")\":\n",
        "        data.pop()\n",
        "        if num_temp != \"\" :\n",
        "          postfix.append(num_temp)\n",
        "          num_temp = \"\"\n",
        "        while stack[len(stack)-1] != \"(\":\n",
        "          postfix.append(stack.pop())\n",
        "        stack.pop()\n",
        "    #숫자가 입력으로 들어오면\n",
        "    elif set_priority(data[len(data)-1]) == -1:\n",
        "      #문자열을 더해준다.\n",
        "      num_temp = num_temp + data.pop()\n",
        "    #+,-,*,/가 입력으로 들어오면\n",
        "    else :\n",
        "      #후위식에 추가해야할 숫자가 있다면\n",
        "      if num_temp != \"\":\n",
        "        postfix.append(num_temp)\n",
        "        num_temp = \"\"\n",
        "      #stack이 비어있다면\n",
        "      if stack == []:\n",
        "        stack.append(data.pop())\n",
        "      #stack이 비어있지 않다면\n",
        "      else:\n",
        "        #data.pop의 우선순위가 더 크다면\n",
        "        if set_priority(data[len(data)-1]) > set_priority(stack[len(stack)-1]):\n",
        "          #stack에 data.pop을 append한다.\n",
        "          stack.append(data.pop())\n",
        "        #data.pop의 우선순위가 stack.pop의 우선순위보다 작거나 같다면  \n",
        "        else :\n",
        "          #stack.pop()을 postfix에 append하고\n",
        "          postfix.append(stack.pop())\n",
        "          #stack에 data.pop을 append\n",
        "          stack.append(data.pop())\n",
        "  if num_temp != \"\":\n",
        "    postfix.append(num_temp)\n",
        "  while stack !=[]:\n",
        "    postfix.append(stack.pop())\n",
        "  return postfix\n",
        "\n",
        "#후위식 계산\n",
        "def cal_postfix(data):\n",
        "  #data는 입력으로 들어오는 후위표기식\n",
        "  data.reverse()\n",
        "  print(data)\n",
        "  stack = []\n",
        "  num1 = 0\n",
        "  num2 = 0\n",
        "  num3 = 0\n",
        "  while data != []:\n",
        "    #숫자라면\n",
        "    if data[len(data)-1].isdecimal():\n",
        "      stack.append(data.pop())\n",
        "    #연산자라면\n",
        "    else :\n",
        "      ch = data.pop()\n",
        "      #+라면\n",
        "      if ch == \"+\":\n",
        "        num1 = float(stack.pop())\n",
        "        num2 = float(stack.pop())\n",
        "        num3 = num1 + num2\n",
        "        stack.append(str(num3))\n",
        "      elif ch == \"-\":\n",
        "        num1 = float(stack.pop())\n",
        "        num2 = float(stack.pop())\n",
        "        num3 = num2 - num1\n",
        "        stack.append(str(num3))\n",
        "      elif ch == \"*\":\n",
        "        num1 = float(stack.pop())\n",
        "        num2 = float(stack.pop())\n",
        "        num3 = num1 * num2\n",
        "        stack.append(str(num3))\n",
        "      elif ch == \"/\":\n",
        "        num1 = float(stack.pop())\n",
        "        num2 = float(stack.pop())\n",
        "        if num1 == 0:\n",
        "          return \"div by zero\"\n",
        "        else :\n",
        "          num3 = num2 / num1\n",
        "          stack.append(num3)\n",
        "  return stack[0]\n",
        "#main\n",
        "while 1:\n",
        "  infix = input(\"식을 입력하세요. 종료하고 싶으면 exit을 입력하세요:\")\n",
        "  if infix == \"exit\":\n",
        "    break\n",
        "  else :\n",
        "    #식 변환(prefix to postfix)\n",
        "    postfix = infix_to_post_fix(list(infix))\n",
        "    print(cal_postfix(postfix))\n"
      ],
      "execution_count": 46,
      "outputs": [
        {
          "output_type": "stream",
          "text": [
            "식을 입력하세요. 종료하고 싶으면 exit을 입력하세요:3+4/0\n",
            "['+', '/', '0', '4', '3']\n",
            "div by zero\n",
            "식을 입력하세요. 종료하고 싶으면 exit을 입력하세요:6+9/3\n",
            "['+', '/', '3', '9', '6']\n",
            "9.0\n",
            "식을 입력하세요. 종료하고 싶으면 exit을 입력하세요:exit\n"
          ],
          "name": "stdout"
        }
      ]
    },
    {
      "cell_type": "code",
      "metadata": {
        "id": "dJEMppY94t6R",
        "colab_type": "code",
        "outputId": "d1a14ffb-b0c1-4f98-a300-ac4a8d34e3e8",
        "colab": {
          "base_uri": "https://localhost:8080/",
          "height": 190
        }
      },
      "source": [
        "#a=['1','2']\n",
        "print(a(len(a)-1))"
      ],
      "execution_count": 15,
      "outputs": [
        {
          "output_type": "error",
          "ename": "TypeError",
          "evalue": "ignored",
          "traceback": [
            "\u001b[0;31m---------------------------------------------------------------------------\u001b[0m",
            "\u001b[0;31mTypeError\u001b[0m                                 Traceback (most recent call last)",
            "\u001b[0;32m<ipython-input-15-ca3b774c7a82>\u001b[0m in \u001b[0;36m<module>\u001b[0;34m()\u001b[0m\n\u001b[1;32m      1\u001b[0m \u001b[0ma\u001b[0m\u001b[0;34m=\u001b[0m\u001b[0;34m[\u001b[0m\u001b[0;34m'1'\u001b[0m\u001b[0;34m,\u001b[0m\u001b[0;34m'2'\u001b[0m\u001b[0;34m]\u001b[0m\u001b[0;34m\u001b[0m\u001b[0;34m\u001b[0m\u001b[0m\n\u001b[0;32m----> 2\u001b[0;31m \u001b[0mprint\u001b[0m\u001b[0;34m(\u001b[0m\u001b[0ma\u001b[0m\u001b[0;34m(\u001b[0m\u001b[0mlen\u001b[0m\u001b[0;34m(\u001b[0m\u001b[0ma\u001b[0m\u001b[0;34m)\u001b[0m\u001b[0;34m-\u001b[0m\u001b[0;36m1\u001b[0m\u001b[0;34m)\u001b[0m\u001b[0;34m)\u001b[0m\u001b[0;34m\u001b[0m\u001b[0;34m\u001b[0m\u001b[0m\n\u001b[0m",
            "\u001b[0;31mTypeError\u001b[0m: 'list' object is not callable"
          ]
        }
      ]
    }
  ]
}