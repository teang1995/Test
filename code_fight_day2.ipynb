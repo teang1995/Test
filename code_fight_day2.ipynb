{
  "nbformat": 4,
  "nbformat_minor": 0,
  "metadata": {
    "colab": {
      "name": "code_fight_day2.ipynb",
      "provenance": [],
      "collapsed_sections": [],
      "include_colab_link": true
    },
    "kernelspec": {
      "name": "python3",
      "display_name": "Python 3"
    }
  },
  "cells": [
    {
      "cell_type": "markdown",
      "metadata": {
        "id": "view-in-github",
        "colab_type": "text"
      },
      "source": [
        "<a href=\"https://colab.research.google.com/github/teang1995/python_study/blob/master/code_fight_day2.ipynb\" target=\"_parent\"><img src=\"https://colab.research.google.com/assets/colab-badge.svg\" alt=\"Open In Colab\"/></a>"
      ]
    },
    {
      "cell_type": "markdown",
      "metadata": {
        "id": "A_fD9589FVYC",
        "colab_type": "text"
      },
      "source": [
        "**intro7.almostIncreasingSequence**"
      ]
    },
    {
      "cell_type": "code",
      "metadata": {
        "id": "-ThpYOMQZIm0",
        "colab_type": "code",
        "colab": {}
      },
      "source": [
        "def almostIncreasingSequence(sequence):\n",
        "    droppped = False\n",
        "    last = prev = min(sequence) - 1\n",
        "    for elm in sequence:\n",
        "        if elm <= last:\n",
        "            if droppped:\n",
        "                return False\n",
        "            else:\n",
        "                droppped = True\n",
        "            if elm <= prev:\n",
        "                prev = last\n",
        "            elif elm >= prev:\n",
        "                prev = last = elm\n",
        "        else:\n",
        "            prev, last = last, elm\n",
        "    return True\n",
        "'''\n",
        "다른 분의 코드를 배꼈다.\n",
        "예시를 넣고 따라가면 결과가 맞게 나오는 건 알겠는데,\n",
        "코드를 보고 이렇게 이렇게 해서 이런 절차를 거쳐야 하므로 이렇게 코드를 짜셨구나!\n",
        "는 설명이 쉽지 않았다.\n",
        "내일 교수님 미팅 끝나면 주석을 열심히 달아야지.\n",
        "'''"
      ],
      "execution_count": 0,
      "outputs": []
    },
    {
      "cell_type": "markdown",
      "metadata": {
        "id": "-K-4j57kN3i6",
        "colab_type": "text"
      },
      "source": [
        "**intro8.matrixElementsSum**"
      ]
    },
    {
      "cell_type": "code",
      "metadata": {
        "id": "_OCTop9uGpoe",
        "colab_type": "code",
        "colab": {}
      },
      "source": [
        "def matrixElementsSum(matrix):\n",
        "    sum = 0 #답을 저장할 변수 \n",
        "    raws = len(matrix)  #행 수 저장\n",
        "    cols = len(matrix[0])#열 수 저장\n",
        "    #열을 먼저 조회한다,\n",
        "    for j in range(cols):\n",
        "        for i in range(raws):\n",
        "          #0을 만나면 다음 열을 조회한다. \n",
        "            if matrix[i][j] != 0:\n",
        "                sum = sum + matrix[i][j]\n",
        "            else : \n",
        "                break\n",
        "    return sum\n",
        "'''\n",
        "행 우선 접근에 익숙해진 나에게 통수 맞은 문제.\n",
        "열을 먼저 접근할 수 있다는 사실을 늘 인지해야겠다.\n",
        "'''"
      ],
      "execution_count": 0,
      "outputs": []
    },
    {
      "cell_type": "markdown",
      "metadata": {
        "id": "6iGGNMkPN71i",
        "colab_type": "text"
      },
      "source": [
        "**intro9.AllLongestStrings**"
      ]
    },
    {
      "cell_type": "code",
      "metadata": {
        "id": "qW4bnNouOBKK",
        "colab_type": "code",
        "colab": {}
      },
      "source": [
        "def allLongestStrings(inputArray):\n",
        "    list_len = [len(inputArray[i]) for i in range(len(inputArray))]\n",
        "    list_ans = []\n",
        "    for i in range(len(inputArray)):\n",
        "        if len(inputArray[i]) == max(list_len):\n",
        "            list_ans.append(inputArray[i])\n",
        "    return list_ans\n",
        "'''\n",
        "파이썬의 편리함에 조금 더 적응할 필요가 있어보임.\n",
        "그 엄청난 기능들을 매끄럽게 사용하지 못 하는 것 같다.\n",
        "list.max()가 아닌 max(list)임을 항상 기억하자.\n",
        "'''"
      ],
      "execution_count": 0,
      "outputs": []
    },
    {
      "cell_type": "markdown",
      "metadata": {
        "id": "8po5d1WBWyyN",
        "colab_type": "text"
      },
      "source": [
        "**intro10.commonCharacterCount**"
      ]
    },
    {
      "cell_type": "code",
      "metadata": {
        "id": "P4ijXVRPW3E0",
        "colab_type": "code",
        "colab": {}
      },
      "source": [
        "def commonCharacterCount(s1, s2):\n",
        "    sum = 0 #답을 저장할 변수\n",
        "    result_temp = 0#s1,s2의 공통 요소 중 더 적게 등장하는 요소의 수를 저장할 변수\n",
        "    ch = \"\"\n",
        "    digit_s1 = list(set(s1))\n",
        "    digit_s2 = list(set(s2))\n",
        "    for i in range(len(digit_s1)):\n",
        "        #s1의 요소가 s2에도 있다면\n",
        "        if digit_s1[i] in digit_s2:\n",
        "            ch = digit_s1[i]\n",
        "            #수가 더 적은 count를 result_temp에 저장한다.\n",
        "            result_temp = (s1.count(ch)) if s1.count(ch)<=s2.count(ch) else (s2.count(ch))\n",
        "            #sum에 result_temp를 더한다.\n",
        "            sum = sum + result_temp\n",
        "    return sum"
      ],
      "execution_count": 0,
      "outputs": []
    },
    {
      "cell_type": "markdown",
      "metadata": {
        "id": "-1Jw8mB8bhSd",
        "colab_type": "text"
      },
      "source": [
        "**intro11.isLucky**"
      ]
    },
    {
      "cell_type": "code",
      "metadata": {
        "id": "fTLWmiSCbgm_",
        "colab_type": "code",
        "colab": {}
      },
      "source": [
        "def isLucky(n):\n",
        "    #문자열로 만든 것을 리스트로 만든다/\n",
        "    list_num = list(str(n))\n",
        "    #앞 쪽의 합, 뒷 쪽의 합을 저장할 변수를 선언.\n",
        "    sum_left = 0\n",
        "    sum_right = 0\n",
        "    #앞 쪽의 합 구하고\n",
        "    for i in range(len(list_num)//2):\n",
        "        sum_left = sum_left + int(list_num[i])\n",
        "    #뒷 쪽의 합 구한 뒤\n",
        "    for i in range(len(list_num)//2,len(list_num)):\n",
        "        sum_right = sum_right + int(list_num[i])\n",
        "    #같으면 True, 다르면 False 반환\n",
        "    return (True) if sum_left == sum_right else False"
      ],
      "execution_count": 0,
      "outputs": []
    },
    {
      "cell_type": "markdown",
      "metadata": {
        "id": "ahi6wQ0Gblje",
        "colab_type": "text"
      },
      "source": [
        "**intro12.SortByHeight**"
      ]
    },
    {
      "cell_type": "code",
      "metadata": {
        "id": "-gTzoiBxdfv9",
        "colab_type": "code",
        "colab": {}
      },
      "source": [
        "def sortByHeight(a):\n",
        "    list_height = []\n",
        "    for i in range(len(a)):\n",
        "        #a의 i번째 요소가 나무가 아니라면\n",
        "        if a[i] != -1:\n",
        "            #list_height에 추가한다.\n",
        "            list_height.append(a[i])\n",
        "            #사람의 위치를 다 0으로 초기화\n",
        "            a[i] = 0\n",
        "    #사람의 키를 정렬한다.\n",
        "    list_height.sort()\n",
        "    #사람의 키를 역순으로 정렬\n",
        "    list_height.reverse()\n",
        "    #i번째 요소가 0이면 사람 키를 pop 후 a의 사람의 위치에 추가\n",
        "    for i in range(len(a)):\n",
        "        if a[i] == 0:\n",
        "            a[i] = list_height.pop()\n",
        "    return a"
      ],
      "execution_count": 0,
      "outputs": []
    }
  ]
}