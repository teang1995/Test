{
  "nbformat": 4,
  "nbformat_minor": 0,
  "metadata": {
    "colab": {
      "name": "code_fight_day6.ipynb",
      "provenance": [],
      "collapsed_sections": [],
      "authorship_tag": "ABX9TyMl11pRa5ATF42fGvJAcQk1",
      "include_colab_link": true
    },
    "kernelspec": {
      "name": "python3",
      "display_name": "Python 3"
    }
  },
  "cells": [
    {
      "cell_type": "markdown",
      "metadata": {
        "id": "view-in-github",
        "colab_type": "text"
      },
      "source": [
        "<a href=\"https://colab.research.google.com/github/teang1995/python_study/blob/master/code_fight_day6.ipynb\" target=\"_parent\"><img src=\"https://colab.research.google.com/assets/colab-badge.svg\" alt=\"Open In Colab\"/></a>"
      ]
    },
    {
      "cell_type": "markdown",
      "metadata": {
        "id": "OfBh1zmBtOuE",
        "colab_type": "text"
      },
      "source": [
        "**intro33.stringsRearrangement**"
      ]
    },
    {
      "cell_type": "code",
      "metadata": {
        "id": "ozrjK6uSOUOm",
        "colab_type": "code",
        "colab": {}
      },
      "source": [
        "def stringsRearrangement(inputArray):\n",
        "  import itertools\n",
        "  '''\n",
        "  inputArray : [\"aba\",\"bbb\",\"bab\"]\n",
        "  rearrange_list : [('aba','bbb','bab'),('aba','bab','bbb')....]\n",
        "  rearrange_list[0] = ('aba','bbb','bab')\n",
        "  rearrange_list[0][0] = 'aba'\n",
        "  rearrange_list[0][0][0] = 'a'\n",
        "  '''\n",
        " \n",
        "  rearrange_list = list(itertools.permutations(inputArray))\n",
        "  len_one = len(rearrange_list[0][0])\n",
        "  len_tuple = len(rearrange_list[0])\n",
        "  return any (all(rearrange_list[i][j][len_one - 1] == rearrange_list[i][j + 1][0] for j in range(len_tuple-1)) for i in range(len(rearrange_list)))\n",
        "'''\n",
        "문제를 잘못 이해해서..\n",
        "문자열끼리 이어지는 리스트를 만들 수 있는지 여부를 판단하는\n",
        "코드를 짜버렸다.\n",
        "뭔가 나중에쓸 곳이 있을 것 같아\n",
        "버리지 않기로 했다.\n",
        "'''"
      ],
      "execution_count": 0,
      "outputs": []
    },
    {
      "cell_type": "code",
      "metadata": {
        "id": "oAJcVxcs1dpo",
        "colab_type": "code",
        "colab": {}
      },
      "source": [
        "def stringsRearrangement(inputArray):\n",
        "  from itertools import permutations as p\n",
        "  '''\n",
        "  inputArray : [\"aba\",\"bbb\",\"bab\"]\n",
        "  rearrange_list : [('aba','bbb','bab'),('aba','bab','bbb')....]\n",
        "  rearrange_list[0] = ('aba','bbb','bab')\n",
        "  rearrange_list[0][0] = 'aba'\n",
        "  rearrange_list[0][0][0] = 'a'\n",
        "  '''\n",
        "  #단어 두 개를 매개변수로 받아 다른 인덱스가 하나인지 판단하는 함수\n",
        "  def diff(word1,word2):\n",
        "    return sum(a[0] != a[1] for a in zip(word1,word2)) == 1\n",
        "  for z in p((inputArray)):\n",
        "    if sum([diff(*x) for x in zip(z,z[1:])]) == len(inputArray) - 1:\n",
        "      return True\n",
        "  return False\n",
        "\n",
        "'''\n",
        "배꼈다.\n",
        "'''"
      ],
      "execution_count": 0,
      "outputs": []
    },
    {
      "cell_type": "markdown",
      "metadata": {
        "id": "TLBfq3EnqNdy",
        "colab_type": "text"
      },
      "source": [
        "**intro34.extractEachKth**"
      ]
    },
    {
      "cell_type": "code",
      "metadata": {
        "id": "9V_hKOXLqQ5g",
        "colab_type": "code",
        "colab": {
          "base_uri": "https://localhost:8080/",
          "height": 35
        },
        "outputId": "f5707ca4-e47d-4868-b952-dbbdc66c7a28"
      },
      "source": [
        "def extractEachKth(inputArray, k):\n",
        "  return [inputArray[i] for i in range(len(inputArray)) if (i + 1) % k != 0]\n",
        "\n",
        "'''\n",
        "간단한 문제였다.\n",
        "'''"
      ],
      "execution_count": 6,
      "outputs": [
        {
          "output_type": "stream",
          "text": [
            "[1, 2, 4, 5, 7, 8, 10]\n"
          ],
          "name": "stdout"
        }
      ]
    },
    {
      "cell_type": "markdown",
      "metadata": {
        "id": "sdLJLcwCr1fq",
        "colab_type": "text"
      },
      "source": [
        "**intro35.firstDigit**"
      ]
    },
    {
      "cell_type": "code",
      "metadata": {
        "id": "XOUT8_fQr4JQ",
        "colab_type": "code",
        "colab": {}
      },
      "source": [
        "def firstDigit(inputString):\n",
        "  inputList = [inputString[i].isdigit() for i in range(len(inputString))]\n",
        "  return inputString[inputList.index(1)]\n",
        "'''\n",
        "isdigit으로 리스트를 선언하고\n",
        "index를 이용해 맨 처음 digit문자를 반환\n",
        "'''"
      ],
      "execution_count": 0,
      "outputs": []
    },
    {
      "cell_type": "markdown",
      "metadata": {
        "id": "mZC6VUtDtw97",
        "colab_type": "text"
      },
      "source": [
        "**intro36.differentSymbolsNaive**"
      ]
    },
    {
      "cell_type": "code",
      "metadata": {
        "id": "71gB_AfMuYBw",
        "colab_type": "code",
        "colab": {}
      },
      "source": [
        "def differentSymbolsNaive(s):\n",
        "  return len(set(s))\n",
        "'''\n",
        "집합의 성질을 이용하면 쉽게 풀린다.\n",
        "'''"
      ],
      "execution_count": 0,
      "outputs": []
    },
    {
      "cell_type": "markdown",
      "metadata": {
        "id": "2IsOmuQ2ukGQ",
        "colab_type": "text"
      },
      "source": [
        "**intro37.arrayMaxConsecutiveSum**"
      ]
    },
    {
      "cell_type": "code",
      "metadata": {
        "id": "Zqr544VfuseB",
        "colab_type": "code",
        "colab": {}
      },
      "source": [
        "'''\n",
        "def arrayMaxConsecutiveSum(inputArray, k):\n",
        "  return max([sum(inputArray[i:i+k]) for i in range(len(inputArray) - k + 1)])\n",
        "'''\n",
        "'''\n",
        "위는 시간초과 뜨는 코드.\n",
        "리스트를 만든 후, 최댓값을 조회하게 돼서 그런 것 같다.\n",
        "이번엔 하나씩 비교해보기로 했다.\n",
        "'''\n",
        "def arrayMaxConsecutiveSum(inputArray, k):\n",
        "  temp_sum = sum(inputArray[:k])\n",
        "  max_sum = -9999\n",
        "  for i in range(len(inputArray) - k ):\n",
        "    if temp_sum > max_sum :\n",
        "      max_sum = temp_sum\n",
        "    temp_sum = temp_sum - inputArray[i] + inputArray[i + k ]\n",
        "  if temp_sum > max_sum :\n",
        "      max_sum = temp_sum\n",
        "  return max_sum\n",
        "'''\n",
        "1.최댓값을 갱신하는 식의 위치를 결정해주어야 했던 문제\n",
        "빡쳐서 위아래 둘 다 넣었더니 통과됐다.\n",
        "2.계산량에 대한 주의가 필요했던 문제\n",
        "맨 첫 풀이와 같이 시도한다면,예를 들면 len(inputArray) == 10000에 k가 5000이라면\n",
        "매번 5000개의 수를 갱신해주어야 하므로 계산량이 증가한다.\n",
        "반면 이 코드의 경우는 숫자를 두 개씩만 접근하면 되므로 계산량이 훨씬 줄어든다.\n",
        "항상 많은 수의 입력이 들어왔을 경우를 생각하자!\n",
        "'''"
      ],
      "execution_count": 0,
      "outputs": []
    },
    {
      "cell_type": "markdown",
      "metadata": {
        "id": "TvysOBe_ebQN",
        "colab_type": "text"
      },
      "source": [
        "**intro38.growingPlant**\n",
        "\n",
        "Caring for a plant can be hard work, but since you tend to it regularly, you have a plant that grows consistently. Each day, its height increases by a fixed amount represented by the integer upSpeed. But due to lack of sunlight, the plant decreases in height every night, by an amount represented by downSpeed.\n",
        "\n",
        "Since you grew the plant from a seed, it started at height 0 initially. Given an integer desiredHeight, your task is to find how many days it'll take for the plant to reach this height.\n",
        "\n"
      ]
    },
    {
      "cell_type": "code",
      "metadata": {
        "id": "0mv2s7kwegXT",
        "colab_type": "code",
        "colab": {}
      },
      "source": [
        "def growingPlant(upSpeed, downSpeed, desiredHeight):\n",
        "  answer = 0\n",
        "  day = 0\n",
        "  while 1:\n",
        "    answer+= upSpeed\n",
        "    day += 1\n",
        "    if answer >= desiredHeight:\n",
        "      return day\n",
        "    else:\n",
        "      answer -= downSpeed"
      ],
      "execution_count": 0,
      "outputs": []
    },
    {
      "cell_type": "markdown",
      "metadata": {
        "id": "8kiA5-fJr3kp",
        "colab_type": "text"
      },
      "source": [
        "**intro39.Knapsack Light**\n",
        "\n",
        "You found two items in a treasure chest! The first item weighs weight1 and is worth value1, and the second item weighs weight2 and is worth value2. What is the total maximum value of the items you can take with you, assuming that your max weight capacity is maxW and you can't come back for the items later?\n",
        "\n",
        "Note that there are only two items and you can't bring more than one item of each type, i.e. you can't take two first items or two second items.\n"
      ]
    },
    {
      "cell_type": "code",
      "metadata": {
        "id": "nDHAPMeqr9Ub",
        "colab_type": "code",
        "colab": {}
      },
      "source": [
        "def knapsackLight(value1, weight1, value2, weight2, maxW):\n",
        "  if value1 >= value2 :\n",
        "    pass\n",
        "  else:\n",
        "    value1,value2 = value2,value1\n",
        "    weight1,weight2 = weight2,weight1\n",
        "  return (maxW//weight1 >= 1) * value1 + ((maxW - (maxW >= weight1)  * weight1) >= weight2) * value2 \n",
        "  '''\n",
        "  문제를 잘 읽어야 한다.\n",
        "  물건을 여러 개 집을 수 있다고 착각해 헤메었던 문제.\n",
        "  '''"
      ],
      "execution_count": 0,
      "outputs": []
    }
  ]
}