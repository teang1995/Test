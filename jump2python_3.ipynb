{
  "nbformat": 4,
  "nbformat_minor": 0,
  "metadata": {
    "colab": {
      "name": "jump2python_3.ipynb",
      "provenance": [],
      "collapsed_sections": [],
      "include_colab_link": true
    },
    "kernelspec": {
      "name": "python3",
      "display_name": "Python 3"
    }
  },
  "cells": [
    {
      "cell_type": "markdown",
      "metadata": {
        "id": "view-in-github",
        "colab_type": "text"
      },
      "source": [
        "<a href=\"https://colab.research.google.com/github/teang1995/jump2python/blob/master/jump2python_3.ipynb\" target=\"_parent\"><img src=\"https://colab.research.google.com/assets/colab-badge.svg\" alt=\"Open In Colab\"/></a>"
      ]
    },
    {
      "cell_type": "markdown",
      "metadata": {
        "id": "Iiq4_MQ7kY2S",
        "colab_type": "text"
      },
      "source": [
        "**3-1**"
      ]
    },
    {
      "cell_type": "code",
      "metadata": {
        "id": "vi99Hho_kTjr",
        "colab_type": "code",
        "outputId": "13c1b27b-b3ef-4885-a5b8-803e4b5e49a3",
        "colab": {
          "base_uri": "https://localhost:8080/",
          "height": 35
        }
      },
      "source": [
        "a = \"Life is too short, you need python\"\n",
        "\n",
        "if \"wife\" in a: print(\"wife\")\n",
        "elif \"python\" in a and \"you\" not in a: print(\"python\")\n",
        "elif \"shirt\" not in a: print(\"shirt\")\n",
        "elif \"need\" in a: print(\"need\")\n",
        "else: print(\"none\")"
      ],
      "execution_count": 0,
      "outputs": [
        {
          "output_type": "stream",
          "text": [
            "shirt\n"
          ],
          "name": "stdout"
        }
      ]
    },
    {
      "cell_type": "markdown",
      "metadata": {
        "id": "2RwajRIh20h9",
        "colab_type": "text"
      },
      "source": [
        "**3-2**"
      ]
    },
    {
      "cell_type": "code",
      "metadata": {
        "id": "sSOUTRpE3APq",
        "colab_type": "code",
        "outputId": "dffdbe9a-e624-43f1-a0a3-8446c2f454a2",
        "colab": {
          "base_uri": "https://localhost:8080/",
          "height": 35
        }
      },
      "source": [
        "i=1\n",
        "sum=0\n",
        "while i<=1000 :\n",
        "  if i%3 ==0 :\n",
        "    sum += i\n",
        "  i=i+1\n",
        "print(sum)"
      ],
      "execution_count": 0,
      "outputs": [
        {
          "output_type": "stream",
          "text": [
            "166833\n"
          ],
          "name": "stdout"
        }
      ]
    },
    {
      "cell_type": "markdown",
      "metadata": {
        "id": "PiUqcG_L3dXs",
        "colab_type": "text"
      },
      "source": [
        "**3-3**"
      ]
    },
    {
      "cell_type": "code",
      "metadata": {
        "id": "_YiXtxDM3eyZ",
        "colab_type": "code",
        "outputId": "e3493689-47a0-447c-f4d4-e3b5ae1f1643",
        "colab": {
          "base_uri": "https://localhost:8080/",
          "height": 107
        }
      },
      "source": [
        "i=0\n",
        "j=0\n",
        "while i<5:\n",
        "  while j<=i:\n",
        "    print('*',end='')\n",
        "    j = j + 1\n",
        "  print()  \n",
        "  j=0  \n",
        "  i= i + 1"
      ],
      "execution_count": 0,
      "outputs": [
        {
          "output_type": "stream",
          "text": [
            "*\n",
            "**\n",
            "***\n",
            "****\n",
            "*****\n"
          ],
          "name": "stdout"
        }
      ]
    },
    {
      "cell_type": "markdown",
      "metadata": {
        "id": "j9l6GnZh4tJB",
        "colab_type": "text"
      },
      "source": [
        "**3-4**"
      ]
    },
    {
      "cell_type": "code",
      "metadata": {
        "id": "Ajnfx5rk4uZB",
        "colab_type": "code",
        "outputId": "b548d72b-00c7-47bf-c5bf-5dea0efe34fc",
        "colab": {
          "base_uri": "https://localhost:8080/",
          "height": 1000
        }
      },
      "source": [
        "for i in range(1,101):\n",
        "  print(i)"
      ],
      "execution_count": 0,
      "outputs": [
        {
          "output_type": "stream",
          "text": [
            "1\n",
            "2\n",
            "3\n",
            "4\n",
            "5\n",
            "6\n",
            "7\n",
            "8\n",
            "9\n",
            "10\n",
            "11\n",
            "12\n",
            "13\n",
            "14\n",
            "15\n",
            "16\n",
            "17\n",
            "18\n",
            "19\n",
            "20\n",
            "21\n",
            "22\n",
            "23\n",
            "24\n",
            "25\n",
            "26\n",
            "27\n",
            "28\n",
            "29\n",
            "30\n",
            "31\n",
            "32\n",
            "33\n",
            "34\n",
            "35\n",
            "36\n",
            "37\n",
            "38\n",
            "39\n",
            "40\n",
            "41\n",
            "42\n",
            "43\n",
            "44\n",
            "45\n",
            "46\n",
            "47\n",
            "48\n",
            "49\n",
            "50\n",
            "51\n",
            "52\n",
            "53\n",
            "54\n",
            "55\n",
            "56\n",
            "57\n",
            "58\n",
            "59\n",
            "60\n",
            "61\n",
            "62\n",
            "63\n",
            "64\n",
            "65\n",
            "66\n",
            "67\n",
            "68\n",
            "69\n",
            "70\n",
            "71\n",
            "72\n",
            "73\n",
            "74\n",
            "75\n",
            "76\n",
            "77\n",
            "78\n",
            "79\n",
            "80\n",
            "81\n",
            "82\n",
            "83\n",
            "84\n",
            "85\n",
            "86\n",
            "87\n",
            "88\n",
            "89\n",
            "90\n",
            "91\n",
            "92\n",
            "93\n",
            "94\n",
            "95\n",
            "96\n",
            "97\n",
            "98\n",
            "99\n",
            "100\n"
          ],
          "name": "stdout"
        }
      ]
    },
    {
      "cell_type": "markdown",
      "metadata": {
        "id": "O9G6LOI_43Nn",
        "colab_type": "text"
      },
      "source": [
        "**3-5**"
      ]
    },
    {
      "cell_type": "code",
      "metadata": {
        "id": "2POeo9Ql42FZ",
        "colab_type": "code",
        "outputId": "fca55787-9d4d-42d0-ddcb-ede1976fe6d6",
        "colab": {
          "base_uri": "https://localhost:8080/",
          "height": 35
        }
      },
      "source": [
        "A = [70, 60, 55, 75, 95, 90, 80, 80, 85, 100]\n",
        "sum = 0\n",
        "for score in A:\n",
        "  sum = sum + score\n",
        "avg = sum/10\n",
        "print(avg)  "
      ],
      "execution_count": 0,
      "outputs": [
        {
          "output_type": "stream",
          "text": [
            "79.0\n"
          ],
          "name": "stdout"
        }
      ]
    },
    {
      "cell_type": "markdown",
      "metadata": {
        "id": "5HZMWxW46yj-",
        "colab_type": "text"
      },
      "source": [
        "**3-6**"
      ]
    },
    {
      "cell_type": "code",
      "metadata": {
        "id": "m6HoSr5F6zm7",
        "colab_type": "code",
        "outputId": "2b1bfec9-fade-439f-fc94-6f92c829bfe2",
        "colab": {
          "base_uri": "https://localhost:8080/",
          "height": 35
        }
      },
      "source": [
        "numbers = [1, 2, 3, 4, 5]\n",
        "result = [num * 2 for num in numbers if num % 2 == 1]\n",
        "print(result)"
      ],
      "execution_count": 0,
      "outputs": [
        {
          "output_type": "stream",
          "text": [
            "[2, 6, 10]\n"
          ],
          "name": "stdout"
        }
      ]
    }
  ]
}