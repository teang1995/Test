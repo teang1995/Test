{
  "nbformat": 4,
  "nbformat_minor": 0,
  "metadata": {
    "colab": {
      "name": "code_fight_day10_51-60.ipynb",
      "provenance": [],
      "authorship_tag": "ABX9TyMTNo9KwntveUvMkuTrgawg",
      "include_colab_link": true
    },
    "kernelspec": {
      "name": "python3",
      "display_name": "Python 3"
    }
  },
  "cells": [
    {
      "cell_type": "markdown",
      "metadata": {
        "id": "view-in-github",
        "colab_type": "text"
      },
      "source": [
        "<a href=\"https://colab.research.google.com/github/teang1995/python_study/blob/master/code_fight_day10_51_60.ipynb\" target=\"_parent\"><img src=\"https://colab.research.google.com/assets/colab-badge.svg\" alt=\"Open In Colab\"/></a>"
      ]
    },
    {
      "cell_type": "markdown",
      "metadata": {
        "id": "2w5aRqpKkylc",
        "colab_type": "text"
      },
      "source": [
        "**intro51.deleteDigit**\n",
        "\n",
        "Given some integer, find the maximal number you can obtain by deleting exactly one digit of the given number."
      ]
    },
    {
      "cell_type": "code",
      "metadata": {
        "id": "rBbnHAv8kl81",
        "colab_type": "code",
        "colab": {}
      },
      "source": [
        "'''\n",
        "brute force\n",
        "'''\n",
        "def deleteDigit(n):\n",
        "  str_n = str(n)\n",
        "  return max([int(\"\".join(str_n[:i] + str_n[i + 1:])) for i in range(len(str_n))])\n",
        "\n",
        "'''\n",
        "하나씩 지워가면서 비교함\n",
        "'''"
      ],
      "execution_count": 0,
      "outputs": []
    },
    {
      "cell_type": "markdown",
      "metadata": {
        "id": "iHWbWKO453T-",
        "colab_type": "text"
      },
      "source": [
        "**intro52.longestWord**\n",
        "\n",
        "Define a word as a sequence of consecutive English letters. Find the longest word from the given string."
      ]
    },
    {
      "cell_type": "code",
      "metadata": {
        "id": "u2P8HIbnwR6j",
        "colab_type": "code",
        "colab": {}
      },
      "source": [
        "'''\n",
        "print(ord(\"a\"),ord(\"A\"),ord(\"z\"),ord(\"Z\"))\n",
        "97 65 122 90\n",
        "'''\n",
        "def longestWord(text):\n",
        "  count = 0\n",
        "  max = \"\"\n",
        "  temp = \"\"\n",
        "  for i in range(len(text)):\n",
        "    #ch가 알파벳이면\n",
        "    if 97 <= ord(text[i]) <= 122 or 65 <= ord(text[i]) <= 90 :\n",
        "      temp += text[i]\n",
        "      count += 1\n",
        "    #아니면\n",
        "    else :\n",
        "      #max랑 count 비교\n",
        "      if len(max) < len(temp) :\n",
        "        max = temp\n",
        "      temp = \"\"\n",
        "    #마지막 항이면\n",
        "    if i == len(text) - 1:\n",
        "      if len(max) < len(temp) :\n",
        "        max = temp\n",
        "  return max\n",
        "\n",
        "print(longestWord(\"ab cde\"))"
      ],
      "execution_count": 0,
      "outputs": []
    },
    {
      "cell_type": "markdown",
      "metadata": {
        "id": "eheUVhtMIn9w",
        "colab_type": "text"
      },
      "source": [
        "**intro53.Valid Time**\n",
        "\n",
        "Check if the given string is a correct time representation of the 24-hour clock."
      ]
    },
    {
      "cell_type": "code",
      "metadata": {
        "id": "S11ZSdy-Ir_5",
        "colab_type": "code",
        "colab": {}
      },
      "source": [
        "def validTime(time):\n",
        "  time = time.split(\":\")\n",
        "  h = int(time[0])\n",
        "  m = int(time[1])\n",
        "  print(h,m)\n",
        "  return 0 <= h < 24 and 0 <= m < 60\n",
        "\n"
      ],
      "execution_count": 0,
      "outputs": []
    },
    {
      "cell_type": "markdown",
      "metadata": {
        "id": "jIF60XvgJYnw",
        "colab_type": "text"
      },
      "source": [
        "**intro54. sumUpNumbers**\n",
        "\n",
        "CodeMaster has just returned from shopping. He scanned the check of the items he bought and gave the resulting string to Ratiorg to figure out the total number of purchased items. Since Ratiorg is a bot he is definitely going to automate it, so he needs a program that sums up all the numbers which appear in the given input.\n",
        "\n",
        "Help Ratiorg by writing a function that returns the sum of numbers that appear in the given inputString."
      ]
    },
    {
      "cell_type": "code",
      "metadata": {
        "id": "NNDyEeoSJgEp",
        "colab_type": "code",
        "colab": {}
      },
      "source": [
        "def sumUpNumbers(s):\n",
        "  temp = \"\"\n",
        "  sum = 0\n",
        "  for i in range(len(s)):\n",
        "    if s[i].isdigit():\n",
        "      temp += s[i]\n",
        "    else :\n",
        "      if temp == \"\":\n",
        "        continue\n",
        "      else :\n",
        "        sum += int(temp)\n",
        "        temp =\"\"\n",
        "    if i == len(s) - 1:\n",
        "      if temp == \"\":\n",
        "        continue\n",
        "      else :\n",
        "        sum += int(temp)\n",
        "  return sum"
      ],
      "execution_count": 0,
      "outputs": []
    },
    {
      "cell_type": "markdown",
      "metadata": {
        "id": "Ln8wWnuDPZR7",
        "colab_type": "text"
      },
      "source": [
        "**intro55.Different Squares**\n",
        "\n",
        "Given a rectangular matrix containing only digits, calculate the number of different 2 × 2 squares in it."
      ]
    },
    {
      "cell_type": "code",
      "metadata": {
        "id": "PzWaj2YyPfRw",
        "colab_type": "code",
        "colab": {}
      },
      "source": [
        "def differentSquares(matrix):\n",
        "  if len(matrix) == 1or len(matrix[0]) == 1 :\n",
        "    return 0\n",
        "  else :\n",
        "    m_list = []\n",
        "    for i in range(len(matrix) - 1) :\n",
        "      for j in range(len(matrix[0]) -1) : \n",
        "        m_list.append(str(matrix[i][j]) + str(matrix[i + 1][j]) + str(matrix[i][j + 1]) + str(matrix[i + 1][j + 1]))\n",
        "    return len(set(m_list))\n",
        "\n",
        "'''\n",
        "네 칸을 입력 받아\n",
        "string으로 처리하여 \n",
        "set으로 중복 처리.\n",
        "'''"
      ],
      "execution_count": 0,
      "outputs": []
    },
    {
      "cell_type": "markdown",
      "metadata": {
        "id": "badem1ywS2gX",
        "colab_type": "text"
      },
      "source": [
        "**intro56.digitsProduct**\n",
        "\n",
        "Given an integer product, find the smallest positive (i.e. greater than 0) integer the product of whose digits is equal to product. If there is no such integer, return -1 instead."
      ]
    },
    {
      "cell_type": "code",
      "metadata": {
        "id": "xAYY_eZdS7HB",
        "colab_type": "code",
        "colab": {}
      },
      "source": [
        "def digitsProduct(product):\n",
        "  answer = []\n",
        "  if product == 0 :\n",
        "    return 10\n",
        "  elif product == 1:\n",
        "    return 1\n",
        "  while product != 1 :\n",
        "    for i in range(9,0,-1) :\n",
        "      if i == 1 :\n",
        "        return -1\n",
        "      if product % i == 0 :\n",
        "        answer.append(i)\n",
        "        product = product//i\n",
        "        break\n",
        "  answer.sort()\n",
        "  return int(\"\".join(str(x) for x in answer))\n",
        "\n",
        "'''\n",
        "나쁜 코드 \n",
        "'''\n",
        "\n",
        "'''\n",
        "sexy code\n",
        "'''\n",
        "'''\n",
        "def digitsProduct(p):\n",
        "    if p == 0: return 10\n",
        "    for i in range(3600):\n",
        "        a = 1\n",
        "        for j in str(i):\n",
        "            a *= int(j)\n",
        "        if a == p: return i\n",
        "    return -1\n",
        "[출처] [python] codeSignal 문제풀이 (55~57)|작성자 Jun\n",
        "'''"
      ],
      "execution_count": 0,
      "outputs": []
    },
    {
      "cell_type": "markdown",
      "metadata": {
        "id": "AgYpMeUBYZSE",
        "colab_type": "text"
      },
      "source": [
        "**intro57.File Naming**\n",
        "\n",
        "You are given an array of desired filenames in the order of their creation. Since two files cannot have equal names, the one which comes later will have an addition to its name in a form of (k), where k is the smallest positive integer such that the obtained name is not used yet.\n",
        "\n",
        "Return an array of names that will be given to the files."
      ]
    },
    {
      "cell_type": "code",
      "metadata": {
        "id": "65XWDOiGYcd0",
        "colab_type": "code",
        "colab": {}
      },
      "source": [
        "def fileNaming(names):\n",
        "  for i in range(len(names)):\n",
        "    #같은 이름이 그 전에 존재한다면\n",
        "    if names[i] in names[:i]:\n",
        "      j = 1\n",
        "      #같은 이름이 존재하는 동안\n",
        "      while names[i] +\"(\" + str(j) + \")\" in names[:i]:\n",
        "        #j를 1씩 증가시킨다.\n",
        "        j += 1\n",
        "      #괄호와 숫자를 붙인 후, names 리스트를 반환\n",
        "      names[i] += \"(\" + str(j) +\")\"\n",
        "  return names"
      ],
      "execution_count": 0,
      "outputs": []
    },
    {
      "cell_type": "markdown",
      "metadata": {
        "id": "OHmPwzT1fYN9",
        "colab_type": "text"
      },
      "source": [
        "**intro58.messageFromBinaryCode**\n",
        "\n",
        "You are taking part in an Escape Room challenge designed specifically for programmers. In your efforts to find a clue, you've found a binary code written on the wall behind a vase, and realized that it must be an encrypted message. After some thought, your first guess is that each consecutive 8 bits of the code stand for the character with the corresponding extended ASCII code.\n",
        "\n",
        "Assuming that your hunch is correct, decode the message."
      ]
    },
    {
      "cell_type": "code",
      "metadata": {
        "id": "WUGVM1zLfhNj",
        "colab_type": "code",
        "colab": {}
      },
      "source": [
        "def messageFromBinaryCode(code):\n",
        "  def returnPart(s):\n",
        "    s = list(reversed(s))\n",
        "    return sum([int(s[i]) * pow(2,i) for i in range(8)])\n",
        "  answer = \"\"\n",
        "  for i in range(len(code) // 8) :\n",
        "    answer += chr(returnPart(code[i*8 : (i + 1) * 8]))\n",
        "  return answer\n",
        "\n",
        "'''\n",
        "8개씩 끊어 읽고,\n",
        "chr로 문자열로 변환.\n",
        "'''"
      ],
      "execution_count": 0,
      "outputs": []
    },
    {
      "cell_type": "markdown",
      "metadata": {
        "id": "zkBRRbCUpz4c",
        "colab_type": "text"
      },
      "source": [
        "**intro59.spiralNumbers**\n",
        "\n",
        "Construct a square matrix with a size N × N containing integers from 1 to N * N in a spiral order, starting from top-left and in clockwise direction."
      ]
    },
    {
      "cell_type": "code",
      "metadata": {
        "id": "zFQLp7Nyp5MU",
        "colab_type": "code",
        "colab": {}
      },
      "source": [
        "def spiralNumbers(n):\n",
        "    direction = [(0,1),(1,0),(0,-1),(-1,0)]\n",
        "    matrix = [[0 for i in range(n)] for i in range(n)]\n",
        "    current_pos = (0,0)\n",
        "    current_dir = 0\n",
        "    for i in range(1, n * n + 1):\n",
        "        matrix[current_pos[0]][current_pos[1]] = i\n",
        "        next_pos = current_pos[0] + direction[current_dir][0], current_pos[1] + direction[current_dir][1] \n",
        "        if next_pos[0] >= n or next_pos[0] < 0 or next_pos[1] >= n or next_pos[1] < 0 or matrix[next_pos[0]][next_pos[1]] != 0:\n",
        "            current_dir = (current_dir + 1) % 4\n",
        "            next_pos = current_pos[0] + direction[current_dir][0], current_pos[1] + direction[current_dir][1] \n",
        "        current_pos = next_pos\n",
        "    return matrix"
      ],
      "execution_count": 0,
      "outputs": []
    },
    {
      "cell_type": "markdown",
      "metadata": {
        "id": "brpKWiFN5ZjX",
        "colab_type": "text"
      },
      "source": [
        "**intro60.Sudoku**\n",
        "\n",
        "Sudoku is a number-placement puzzle. The objective is to fill a 9 × 9 grid with digits so that each column, each row, and each of the nine 3 × 3 sub-grids that compose the grid contains all of the digits from 1 to 9.\n",
        "\n",
        "This algorithm should check if the given grid of numbers represents a correct solution to Sudoku."
      ]
    },
    {
      "cell_type": "code",
      "metadata": {
        "id": "07MJuVeO5gse",
        "colab_type": "code",
        "colab": {}
      },
      "source": [
        "def sudoku(grid):\n",
        "  a = [1,2,3,4,5,6,7,8,9]\n",
        "  #세로 줄\n",
        "  for line in grid :\n",
        "    if sorted(line) == a :\n",
        "      continue\n",
        "    else :\n",
        "      return False\n",
        "  temp = []\n",
        "  #가로 줄\n",
        "  for j in range(9) :\n",
        "    for i in range(9) :\n",
        "      temp.append(grid[i][j])\n",
        "    if sorted(temp) == a:\n",
        "      temp = []\n",
        "      continue\n",
        "    else :\n",
        "      return False\n",
        "  temp = []\n",
        "  # 사각형 9개\n",
        "  for i in range(3) :\n",
        "    for j in range(3) :\n",
        "      #3 * 3 하나\n",
        "      for k in range(3) :\n",
        "        for l in range(3):\n",
        "          temp.append(grid[i * 3 + k][j * 3 + l])\n",
        "      if sorted(temp) == a:\n",
        "        temp = []\n",
        "        continue \n",
        "      else :\n",
        "        return False\n",
        "  return True\n"
      ],
      "execution_count": 0,
      "outputs": []
    }
  ]
}