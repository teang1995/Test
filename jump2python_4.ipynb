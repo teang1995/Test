{
  "nbformat": 4,
  "nbformat_minor": 0,
  "metadata": {
    "colab": {
      "name": "jump2python_4.ipynb",
      "provenance": [],
      "collapsed_sections": [],
      "include_colab_link": true
    },
    "kernelspec": {
      "name": "python3",
      "display_name": "Python 3"
    }
  },
  "cells": [
    {
      "cell_type": "markdown",
      "metadata": {
        "id": "view-in-github",
        "colab_type": "text"
      },
      "source": [
        "<a href=\"https://colab.research.google.com/github/teang1995/jump2python/blob/master/jump2python_4.ipynb\" target=\"_parent\"><img src=\"https://colab.research.google.com/assets/colab-badge.svg\" alt=\"Open In Colab\"/></a>"
      ]
    },
    {
      "cell_type": "markdown",
      "metadata": {
        "id": "L5Rx3v7gCcAq",
        "colab_type": "text"
      },
      "source": [
        "**args사용법**"
      ]
    },
    {
      "cell_type": "code",
      "metadata": {
        "id": "7M5z0MqR7Ro5",
        "colab_type": "code",
        "outputId": "e3d8a9a6-bbe4-4d77-8b2e-7a496f6a93a8",
        "colab": {
          "base_uri": "https://localhost:8080/",
          "height": 35
        }
      },
      "source": [
        "def add_many(args):\n",
        "  result = 0\n",
        "  for i in args:\n",
        "    result = result + i\n",
        "  return result\n",
        "a=[1,2,3,4,5,6]\n",
        "print(add_many(a)) \n"
      ],
      "execution_count": 0,
      "outputs": [
        {
          "output_type": "stream",
          "text": [
            "21\n"
          ],
          "name": "stdout"
        }
      ]
    },
    {
      "cell_type": "markdown",
      "metadata": {
        "id": "OdAqxjVGCgrh",
        "colab_type": "text"
      },
      "source": [
        "**kwargs사용법**"
      ]
    },
    {
      "cell_type": "code",
      "metadata": {
        "id": "qea9vMcgCjGn",
        "colab_type": "code",
        "outputId": "ea545659-8e9d-4fca-a9a1-1539b03d0f7b",
        "colab": {
          "base_uri": "https://localhost:8080/",
          "height": 35
        }
      },
      "source": [
        "def print_kwargs(**kwargs):\n",
        "  print(kwargs)\n",
        "print_kwargs(a=1)"
      ],
      "execution_count": 0,
      "outputs": [
        {
          "output_type": "stream",
          "text": [
            "{'a': 1}\n"
          ],
          "name": "stdout"
        }
      ]
    },
    {
      "cell_type": "markdown",
      "metadata": {
        "id": "gWuquZ3xC8dm",
        "colab_type": "text"
      },
      "source": [
        "**lambda 사용법**"
      ]
    },
    {
      "cell_type": "code",
      "metadata": {
        "id": "1DIsWe74C-RO",
        "colab_type": "code",
        "outputId": "2cfe8342-c536-4d2a-e186-a87b62a59568",
        "colab": {
          "base_uri": "https://localhost:8080/",
          "height": 35
        }
      },
      "source": [
        "add = lambda a,b : a+b\n",
        "result = add(3,4)\n",
        "print(result)"
      ],
      "execution_count": 0,
      "outputs": [
        {
          "output_type": "stream",
          "text": [
            "7\n"
          ],
          "name": "stdout"
        }
      ]
    },
    {
      "cell_type": "markdown",
      "metadata": {
        "id": "t2PmXM3pF5Nd",
        "colab_type": "text"
      },
      "source": [
        "**%사용법?**"
      ]
    },
    {
      "cell_type": "code",
      "metadata": {
        "id": "dXLaShAZF7k6",
        "colab_type": "code",
        "outputId": "5985946f-0699-4f03-d92b-d6443abe39bc",
        "colab": {
          "base_uri": "https://localhost:8080/",
          "height": 35
        }
      },
      "source": [
        "i = 13\n",
        "#data = \"%d번째 줄입니다.\" % i\n",
        "data = str(i) + \"번째 줄입니다.\"\n",
        "print(data)"
      ],
      "execution_count": 0,
      "outputs": [
        {
          "output_type": "stream",
          "text": [
            "13번째 줄입니다.\n"
          ],
          "name": "stdout"
        }
      ]
    },
    {
      "cell_type": "markdown",
      "metadata": {
        "id": "Kqz8HHw5GXwg",
        "colab_type": "text"
      },
      "source": [
        "**4-1**"
      ]
    },
    {
      "cell_type": "code",
      "metadata": {
        "id": "fFVn61lmGZ4w",
        "colab_type": "code",
        "colab": {}
      },
      "source": [
        "def is_odd(num) :\n",
        "  if num % 2 == 0:\n",
        "    print(\"짝수입니다\")\n",
        "  else :\n",
        "    print(\"홀수입니다\")\n",
        "\n",
        "num = input()\n",
        "is_odd(int(num))"
      ],
      "execution_count": 0,
      "outputs": []
    },
    {
      "cell_type": "markdown",
      "metadata": {
        "id": "kXwzKm6JHQJH",
        "colab_type": "text"
      },
      "source": [
        "**4-2**"
      ]
    },
    {
      "cell_type": "code",
      "metadata": {
        "id": "GbVx2ruXHRqf",
        "colab_type": "code",
        "outputId": "e5c1a7e7-32f2-489f-ee97-49911c5cd5bd",
        "colab": {
          "base_uri": "https://localhost:8080/",
          "height": 35
        }
      },
      "source": [
        "#애들한테 힌트 주기 len(args)가 되는 거라고\n",
        "def get_avg(*args):\n",
        "  sum = 0\n",
        "  for num in args :\n",
        "    sum = sum + num\n",
        "  avg  = sum/len(args)\n",
        "  return avg\n",
        "get_avg(1,2,3,4,5,6)"
      ],
      "execution_count": 0,
      "outputs": [
        {
          "output_type": "execute_result",
          "data": {
            "text/plain": [
              "3.5"
            ]
          },
          "metadata": {
            "tags": []
          },
          "execution_count": 20
        }
      ]
    },
    {
      "cell_type": "markdown",
      "metadata": {
        "id": "wASUfalHIp9z",
        "colab_type": "text"
      },
      "source": [
        "**4-3**"
      ]
    },
    {
      "cell_type": "code",
      "metadata": {
        "id": "lnwRgkcDIbP7",
        "colab_type": "code",
        "outputId": "6a262f29-08e8-49f4-f5a3-5bddd4ac1d22",
        "colab": {
          "base_uri": "https://localhost:8080/",
          "height": 71
        }
      },
      "source": [
        "#input으로 받는 건 항상 string임을 인지해라!\n",
        "input1 = input(\"첫번째 숫자를 입력하세요:\")\n",
        "input2 = input(\"두번째 숫자를 입력하세요:\")\n",
        "\n",
        "total = int(input1) + int(input2)\n",
        "print(\"두 수의 합은 %s 입니다\" % total)"
      ],
      "execution_count": 0,
      "outputs": [
        {
          "output_type": "stream",
          "text": [
            "첫번째 숫자를 입력하세요:3\n",
            "두번째 숫자를 입력하세요:6\n",
            "두 수의 합은 9 입니다\n"
          ],
          "name": "stdout"
        }
      ]
    },
    {
      "cell_type": "markdown",
      "metadata": {
        "id": "KH8grXiPJEsy",
        "colab_type": "text"
      },
      "source": [
        "**4-4**"
      ]
    },
    {
      "cell_type": "code",
      "metadata": {
        "id": "hlABrcbaJEOU",
        "colab_type": "code",
        "colab": {}
      },
      "source": [
        "#쉼표로 더하면 띄어쓰기가 생긴다.\n",
        "print(\"you\", \"need\", \"python\")"
      ],
      "execution_count": 0,
      "outputs": []
    },
    {
      "cell_type": "markdown",
      "metadata": {
        "id": "-paOGoYQJKTi",
        "colab_type": "text"
      },
      "source": [
        "**4-5**"
      ]
    },
    {
      "cell_type": "code",
      "metadata": {
        "id": "uq8cNfk0JMJ6",
        "colab_type": "code",
        "outputId": "23a1a5d8-8a94-4783-8142-7117bb9809ed",
        "colab": {
          "base_uri": "https://localhost:8080/",
          "height": 35
        }
      },
      "source": [
        "f1 = open(\"test.txt\", 'w')\n",
        "f1.write(\"Life is too short\")\n",
        "f1.close() #파일을 닫지 않은 상ㅌ태에서 열면 파일에 저장된 데이터를 읽을 수 없음.\n",
        "f2 = open(\"test.txt\", 'r')\n",
        "print(f2.read())"
      ],
      "execution_count": 0,
      "outputs": [
        {
          "output_type": "stream",
          "text": [
            "Life is too short\n"
          ],
          "name": "stdout"
        }
      ]
    },
    {
      "cell_type": "markdown",
      "metadata": {
        "id": "tuPNChzLKMTX",
        "colab_type": "text"
      },
      "source": [
        "**4-5 ver.2**"
      ]
    },
    {
      "cell_type": "code",
      "metadata": {
        "id": "8mvtZYbVKPMo",
        "colab_type": "code",
        "outputId": "225392b7-ea7e-406d-d073-b9424221ba20",
        "colab": {
          "base_uri": "https://localhost:8080/",
          "height": 35
        }
      },
      "source": [
        "#with를 사용하면 close를 명시할 필요가 없다.\n",
        "with open(\"test.txt\", 'w') as f1:\n",
        "    f1.write(\"Life is too short! \")\n",
        "with open(\"test.txt\", 'r') as f2:\n",
        "    print(f2.read())"
      ],
      "execution_count": 0,
      "outputs": [
        {
          "output_type": "stream",
          "text": [
            "Life is too short! \n"
          ],
          "name": "stdout"
        }
      ]
    },
    {
      "cell_type": "markdown",
      "metadata": {
        "id": "8N36_9a3JWwR",
        "colab_type": "text"
      },
      "source": [
        "**4-6**"
      ]
    },
    {
      "cell_type": "code",
      "metadata": {
        "id": "5RxzyawLJYdB",
        "colab_type": "code",
        "colab": {}
      },
      "source": [
        "user_input = input(\"저장할 내용을 입력하세요:\")\n",
        "f = open('test.txt', 'a')   # 내용을 추가하기 위해서 'a'를 사용\n",
        "f.write(user_input)\n",
        "f.write(\"\\n\")               # 입력된 내용을 줄 단위로 구분하기 위해 줄 바꿈 문자 삽입\n",
        "f.close()"
      ],
      "execution_count": 0,
      "outputs": []
    },
    {
      "cell_type": "markdown",
      "metadata": {
        "id": "u3IiYhv-Jusy",
        "colab_type": "text"
      },
      "source": [
        "**4-7**"
      ]
    },
    {
      "cell_type": "code",
      "metadata": {
        "id": "ZVrERiUaJwI5",
        "colab_type": "code",
        "colab": {}
      },
      "source": [
        "'''\n",
        "4-5를 기억하세요.\n",
        "replace함수를 사용하세요.\n",
        "'''\n",
        "f = open('test.txt', 'r')\n",
        "body = f.read()\n",
        "f.close()\n",
        "\n",
        "body = body.replace('java', 'python')\n",
        "\n",
        "f = open('test.txt', 'w')\n",
        "f.write(body)\n",
        "f.close()"
      ],
      "execution_count": 0,
      "outputs": []
    }
  ]
}