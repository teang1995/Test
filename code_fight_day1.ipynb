{
  "nbformat": 4,
  "nbformat_minor": 0,
  "metadata": {
    "colab": {
      "name": "code_fight_day1.ipynb",
      "provenance": [],
      "include_colab_link": true
    },
    "kernelspec": {
      "name": "python3",
      "display_name": "Python 3"
    }
  },
  "cells": [
    {
      "cell_type": "markdown",
      "metadata": {
        "id": "view-in-github",
        "colab_type": "text"
      },
      "source": [
        "<a href=\"https://colab.research.google.com/github/teang1995/python_study/blob/master/code_fight_day1.ipynb\" target=\"_parent\"><img src=\"https://colab.research.google.com/assets/colab-badge.svg\" alt=\"Open In Colab\"/></a>"
      ]
    },
    {
      "cell_type": "markdown",
      "metadata": {
        "id": "o9BwKS6-Gyju",
        "colab_type": "text"
      },
      "source": [
        "**intro2.centuryFromYear**"
      ]
    },
    {
      "cell_type": "code",
      "metadata": {
        "id": "9v7EeGNmE9jl",
        "colab_type": "code",
        "colab": {}
      },
      "source": [
        "def centuryFromYear(year):\n",
        "  if year%100 == 0:\n",
        "    return year/100\n",
        "  else :\n",
        "    return year/100 + 1\n",
        "\n",
        "'''\n",
        "c언어와의 차이점에서 헷갈렸던 문제.\n",
        "몫을 구하고 싶을 땐 /이 아닌 //을 써야 한다.\n",
        "'''"
      ],
      "execution_count": 0,
      "outputs": []
    },
    {
      "cell_type": "markdown",
      "metadata": {
        "id": "ZkgbTJepGuv-",
        "colab_type": "text"
      },
      "source": [
        "**intro3.checkPalindrome**"
      ]
    },
    {
      "cell_type": "code",
      "metadata": {
        "id": "RPyEdFeJGx_a",
        "colab_type": "code",
        "colab": {}
      },
      "source": [
        "def checkPalindrome(inputString):\n",
        "  a = list(inputString)\n",
        "  b = a[:]#shallow copy\n",
        "  a.reverse()\n",
        "  if a == b:\n",
        "    return True\n",
        "  else :\n",
        "    return False\n",
        "\n",
        "'''\n",
        "얕은 복사와 깊은 복사를 알아야 했던 문제.\n",
        "a = b와 같이 대입한다면 주솟값이 그대로 옮겨져 조작이 어렵다.\n",
        "a = b[:]와 같은 얕은 복사를 해야 함.\n",
        "'''"
      ],
      "execution_count": 0,
      "outputs": []
    },
    {
      "cell_type": "markdown",
      "metadata": {
        "id": "ETIMzCXuJkUx",
        "colab_type": "text"
      },
      "source": [
        "**intro4.adjacentElementsProduct**"
      ]
    },
    {
      "cell_type": "code",
      "metadata": {
        "id": "AmrBT7qQJoi5",
        "colab_type": "code",
        "colab": {}
      },
      "source": [
        "def adjacentElementsProduct(inputArray):\n",
        "  max = -999999909\n",
        "  for i in range(0,len(inputArray)-1):\n",
        "    if inputArray[i] * inputArray[i+1] > max:\n",
        "      max = inputArray[i] * inputArray[i+1]\n",
        "  return max\n",
        "'''\n",
        "문제를 똑바로 읽자.\n",
        "'''"
      ],
      "execution_count": 0,
      "outputs": []
    },
    {
      "cell_type": "markdown",
      "metadata": {
        "id": "wBNIaXfqPXs6",
        "colab_type": "text"
      },
      "source": [
        "**intro5.shapeArea**"
      ]
    },
    {
      "cell_type": "code",
      "metadata": {
        "id": "0wBmQTAwQZhs",
        "colab_type": "code",
        "colab": {}
      },
      "source": [
        "def shapeArea(n):\n",
        "    return 2*(n**2)-2*n+1\n",
        "\n",
        "'''\n",
        "간단한 점화식 문제.\n",
        "'''"
      ],
      "execution_count": 0,
      "outputs": []
    },
    {
      "cell_type": "markdown",
      "metadata": {
        "id": "Y7sv-N66QhOU",
        "colab_type": "text"
      },
      "source": [
        "**intro6.makeArrayConsecutive2**"
      ]
    },
    {
      "cell_type": "code",
      "metadata": {
        "id": "TGc7QOG2PbCk",
        "colab_type": "code",
        "colab": {}
      },
      "source": [
        "def makeArrayConsecutive2(statues):\n",
        "  a = sorted(statues)\n",
        "  sum = 0\n",
        "  for i in range(0,len(a)-1):\n",
        "    sum = sum + a[i+1] - a[i] - 1\n",
        "  return sum\n",
        "  '''\n",
        "  a에다 입력으로 받은 배열을 정렬한 결과를 넣어놓고\n",
        "  입력으로 받은 배열로 연산을 해 한참 헤매었다.\n",
        "  실수가 참 많은 것 같다.\n",
        "  '''"
      ],
      "execution_count": 0,
      "outputs": []
    }
  ]
}