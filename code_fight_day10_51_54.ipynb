{
  "nbformat": 4,
  "nbformat_minor": 0,
  "metadata": {
    "colab": {
      "name": "code_fight_day10_51-54.ipynb",
      "provenance": [],
      "authorship_tag": "ABX9TyPVmhrhO5mtjldWa60Cf2bM",
      "include_colab_link": true
    },
    "kernelspec": {
      "name": "python3",
      "display_name": "Python 3"
    }
  },
  "cells": [
    {
      "cell_type": "markdown",
      "metadata": {
        "id": "view-in-github",
        "colab_type": "text"
      },
      "source": [
        "<a href=\"https://colab.research.google.com/github/teang1995/python_study/blob/master/code_fight_day10_51_54.ipynb\" target=\"_parent\"><img src=\"https://colab.research.google.com/assets/colab-badge.svg\" alt=\"Open In Colab\"/></a>"
      ]
    },
    {
      "cell_type": "markdown",
      "metadata": {
        "id": "2w5aRqpKkylc",
        "colab_type": "text"
      },
      "source": [
        "**intro51.deleteDigit**\n",
        "\n",
        "Given some integer, find the maximal number you can obtain by deleting exactly one digit of the given number."
      ]
    },
    {
      "cell_type": "code",
      "metadata": {
        "id": "rBbnHAv8kl81",
        "colab_type": "code",
        "colab": {}
      },
      "source": [
        "'''\n",
        "brute force\n",
        "'''\n",
        "def deleteDigit(n):\n",
        "  str_n = str(n)\n",
        "  return max([int(\"\".join(str_n[:i] + str_n[i + 1:])) for i in range(len(str_n))])\n",
        "\n",
        "'''\n",
        "하나씩 지워가면서 비교함\n",
        "'''"
      ],
      "execution_count": 0,
      "outputs": []
    },
    {
      "cell_type": "markdown",
      "metadata": {
        "id": "iHWbWKO453T-",
        "colab_type": "text"
      },
      "source": [
        "**intro52.longestWord**\n",
        "\n",
        "Define a word as a sequence of consecutive English letters. Find the longest word from the given string."
      ]
    },
    {
      "cell_type": "code",
      "metadata": {
        "id": "u2P8HIbnwR6j",
        "colab_type": "code",
        "colab": {}
      },
      "source": [
        "'''\n",
        "print(ord(\"a\"),ord(\"A\"),ord(\"z\"),ord(\"Z\"))\n",
        "97 65 122 90\n",
        "'''\n",
        "def longestWord(text):\n",
        "  count = 0\n",
        "  max = \"\"\n",
        "  temp = \"\"\n",
        "  for i in range(len(text)):\n",
        "    #ch가 알파벳이면\n",
        "    if 97 <= ord(text[i]) <= 122 or 65 <= ord(text[i]) <= 90 :\n",
        "      temp += text[i]\n",
        "      count += 1\n",
        "    #아니면\n",
        "    else :\n",
        "      #max랑 count 비교\n",
        "      if len(max) < len(temp) :\n",
        "        max = temp\n",
        "      temp = \"\"\n",
        "    #마지막 항이면\n",
        "    if i == len(text) - 1:\n",
        "      if len(max) < len(temp) :\n",
        "        max = temp\n",
        "  return max\n",
        "\n",
        "print(longestWord(\"ab cde\"))"
      ],
      "execution_count": 0,
      "outputs": []
    },
    {
      "cell_type": "markdown",
      "metadata": {
        "id": "eheUVhtMIn9w",
        "colab_type": "text"
      },
      "source": [
        "**intro53.Valid Time**\n",
        "\n",
        "Check if the given string is a correct time representation of the 24-hour clock."
      ]
    },
    {
      "cell_type": "code",
      "metadata": {
        "id": "S11ZSdy-Ir_5",
        "colab_type": "code",
        "colab": {}
      },
      "source": [
        "def validTime(time):\n",
        "  time = time.split(\":\")\n",
        "  h = int(time[0])\n",
        "  m = int(time[1])\n",
        "  print(h,m)\n",
        "  return 0 <= h < 24 and 0 <= m < 60\n",
        "\n"
      ],
      "execution_count": 0,
      "outputs": []
    },
    {
      "cell_type": "markdown",
      "metadata": {
        "id": "jIF60XvgJYnw",
        "colab_type": "text"
      },
      "source": [
        "**intro54. sumUpNumbers**\n",
        "\n",
        "CodeMaster has just returned from shopping. He scanned the check of the items he bought and gave the resulting string to Ratiorg to figure out the total number of purchased items. Since Ratiorg is a bot he is definitely going to automate it, so he needs a program that sums up all the numbers which appear in the given input.\n",
        "\n",
        "Help Ratiorg by writing a function that returns the sum of numbers that appear in the given inputString."
      ]
    },
    {
      "cell_type": "code",
      "metadata": {
        "id": "NNDyEeoSJgEp",
        "colab_type": "code",
        "colab": {}
      },
      "source": [
        "def sumUpNumbers(s):\n",
        "  temp = \"\"\n",
        "  sum = 0\n",
        "  for i in range(len(s)):\n",
        "    if s[i].isdigit():\n",
        "      temp += s[i]\n",
        "    else :\n",
        "      if temp == \"\":\n",
        "        continue\n",
        "      else :\n",
        "        sum += int(temp)\n",
        "        temp =\"\"\n",
        "    if i == len(s) - 1:\n",
        "      if temp == \"\":\n",
        "        continue\n",
        "      else :\n",
        "        sum += int(temp)\n",
        "  return sum"
      ],
      "execution_count": 0,
      "outputs": []
    }
  ]
}