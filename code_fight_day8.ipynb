{
  "nbformat": 4,
  "nbformat_minor": 0,
  "metadata": {
    "colab": {
      "name": "Untitled0.ipynb",
      "provenance": [],
      "collapsed_sections": [],
      "authorship_tag": "ABX9TyPVy483q+HUFZsCEIPUFIQb",
      "include_colab_link": true
    },
    "kernelspec": {
      "name": "python3",
      "display_name": "Python 3"
    }
  },
  "cells": [
    {
      "cell_type": "markdown",
      "metadata": {
        "id": "view-in-github",
        "colab_type": "text"
      },
      "source": [
        "<a href=\"https://colab.research.google.com/github/teang1995/python_study/blob/master/code_fight_day8.ipynb\" target=\"_parent\"><img src=\"https://colab.research.google.com/assets/colab-badge.svg\" alt=\"Open In Colab\"/></a>"
      ]
    },
    {
      "cell_type": "markdown",
      "metadata": {
        "id": "GZI4ER2SOYUV",
        "colab_type": "text"
      },
      "source": [
        "**intro45.buildPalidrome**\n",
        "\n",
        "Given a string, find the shortest possible string which can be achieved by adding characters to the end of initial string to make it a palindrome.\n",
        "\n"
      ]
    },
    {
      "cell_type": "code",
      "metadata": {
        "id": "VXeORl1F271h",
        "colab_type": "code",
        "colab": {}
      },
      "source": [
        "def buildPalindrome(st):\n",
        "  cnt = 0\n",
        "  #st가 이미 Palindrome이라면\n",
        "  if st == st[::-1] :\n",
        "    #st를 반환.\n",
        "    return st\n",
        "  #st가 Palindrome이 아니라면\n",
        "  else :\n",
        "    #c를 st의 길이까지 증가시키면서\n",
        "    while cnt < len(st) :\n",
        "      #new_st에 st와 st를 뒤집고 c개 슬라이싱한 것을 더함.\n",
        "      new_st = st + st[cnt::-1]\n",
        "      #new_st가 뒤집었을 때랑 같다면\n",
        "      if new_st == new_st[::-1]:\n",
        "        #new_st를 반환한다.\n",
        "        return new_st\n",
        "      cnt += 1\n",
        "  return False\n",
        "  \n",
        "\n",
        "'''\n",
        "슬라이싱 쓰는 것에 익숙하지 않았다.\n",
        "방장님 코드 참고\n",
        "'''"
      ],
      "execution_count": 0,
      "outputs": []
    },
    {
      "cell_type": "markdown",
      "metadata": {
        "id": "x_kgOw5UT4kw",
        "colab_type": "text"
      },
      "source": [
        "**intro46.Election Winners**\n",
        "\n",
        "Elections are in progress!\n",
        "\n",
        "Given an array of the numbers of votes given to each of the candidates so far, and an integer k equal to the number of voters who haven't cast their vote yet, find the number of candidates who still have a chance to win the election.\n",
        "\n",
        "The winner of the election must secure strictly more votes than any other candidate. If two or more candidates receive the same (maximum) number of votes, assume there is no winner at all."
      ]
    },
    {
      "cell_type": "code",
      "metadata": {
        "id": "wjO-9stoT8PW",
        "colab_type": "code",
        "colab": {}
      },
      "source": [
        "def electionsWinners(votes, k):\n",
        "  answer = 0\n",
        "  if k == 0 and votes.count(max(votes)) == 1:\n",
        "    answer = 1\n",
        "  else:\n",
        "    arr = [x + k for x in votes]\n",
        "    for num in arr:\n",
        "      if num > max(votes) :\n",
        "        answer += 1\n",
        "  return answer\n",
        "\n",
        "'''\n",
        "최댓값을 계속 조회한다면 그것 또한 연산량을 많이 차지하게 된다.\n",
        "그 자체로 for루프 하나가 추가되는 거니깐.\n",
        "자꾸 조회할 거면 미리 빼두자!\n",
        "'''"
      ],
      "execution_count": 0,
      "outputs": []
    },
    {
      "cell_type": "markdown",
      "metadata": {
        "id": "iS5hKEfX_DGs",
        "colab_type": "text"
      },
      "source": [
        "**intro47.Is MAC48 Address?**\n",
        "\n",
        "A media access control address (MAC address) is a unique identifier assigned to network interfaces for communications on the physical network segment.\n",
        "\n",
        "The standard (IEEE 802) format for printing MAC-48 addresses in human-friendly form is six groups of two hexadecimal digits (0 to 9 or A to F), separated by hyphens (e.g. 01-23-45-67-89-AB).\n",
        "\n",
        "Your task is to check by given string inputString whether it corresponds to MAC-48 address or not."
      ]
    },
    {
      "cell_type": "code",
      "metadata": {
        "id": "E4BfNYRf_S4B",
        "colab_type": "code",
        "colab": {}
      },
      "source": [
        "'''\n",
        "ord(A) = 65\n",
        "ord(F) = 70\n",
        "'''\n",
        "def isMAC48Address(inputString):\n",
        "  inputArr = inputString.split(\"-\")\n",
        "  if len(inputArr) == 6 and all(len(ch) == 2 for ch in inputArr):\n",
        "    for ch in inputArr :\n",
        "      if all(65 <= ord(x) <=70 or x.isdigit() for x in ch) :\n",
        "        continue\n",
        "      else :\n",
        "        return False\n",
        "  else :\n",
        "    return False\n",
        "  return True\n",
        "\n",
        "'''\n",
        "우선 -로 split후 6개로 나뉘는지, 그리고 각각의 splits가 2의 길이를 가지는지 확인\n",
        "그 후 A~F의 알파벳, 혹은 숫자인지 확인\n",
        "'''"
      ],
      "execution_count": 0,
      "outputs": []
    },
    {
      "cell_type": "markdown",
      "metadata": {
        "id": "-ucpGVuBGk_T",
        "colab_type": "text"
      },
      "source": [
        "**intro48.isDigit**\n",
        "\n",
        "Determine if the given character is a digit or not."
      ]
    },
    {
      "cell_type": "code",
      "metadata": {
        "id": "AfhoBHD6Gpne",
        "colab_type": "code",
        "colab": {}
      },
      "source": [
        "def isDigit(symbol):\n",
        "  return symbol.isdigit()\n",
        "\n",
        "'''\n",
        "?\n",
        "'''"
      ],
      "execution_count": 0,
      "outputs": []
    }
  ]
}