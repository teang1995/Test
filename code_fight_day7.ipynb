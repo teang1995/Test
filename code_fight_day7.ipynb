{
  "nbformat": 4,
  "nbformat_minor": 0,
  "metadata": {
    "colab": {
      "name": "Untitled0.ipynb",
      "provenance": [],
      "authorship_tag": "ABX9TyM2JXoTzmE5K7CxFrRCICOa",
      "include_colab_link": true
    },
    "kernelspec": {
      "name": "python3",
      "display_name": "Python 3"
    }
  },
  "cells": [
    {
      "cell_type": "markdown",
      "metadata": {
        "id": "view-in-github",
        "colab_type": "text"
      },
      "source": [
        "<a href=\"https://colab.research.google.com/github/teang1995/python_study/blob/master/code_fight_day7.ipynb\" target=\"_parent\"><img src=\"https://colab.research.google.com/assets/colab-badge.svg\" alt=\"Open In Colab\"/></a>"
      ]
    },
    {
      "cell_type": "markdown",
      "metadata": {
        "id": "iBfIv-I-HL7i",
        "colab_type": "text"
      },
      "source": [
        "**intro40.longestDigitsPrefix**\n",
        "\n",
        "Given a string, output its longest prefix which contains only digits."
      ]
    },
    {
      "cell_type": "code",
      "metadata": {
        "id": "ePjLdRNpE1jv",
        "colab_type": "code",
        "colab": {}
      },
      "source": [
        "def longestDigitsPrefix(inputString):\n",
        "  answer = \"\"\n",
        "  for ch in inputString:\n",
        "    if ch.isdigit() : \n",
        "      answer += ch\n",
        "    else :\n",
        "      break\n",
        "  return answer\n",
        "\n",
        "'''\n",
        "문제를 잘못 파악했다.\n",
        "가장 긴 숫자의 문자열을 반환하는 것인 줄 알았는데, \n",
        "prefix의 의미를 제대로 파악하지 못 했던 것 같다.\n",
        "'''"
      ],
      "execution_count": 0,
      "outputs": []
    },
    {
      "cell_type": "markdown",
      "metadata": {
        "id": "0MvPdV28HQQX",
        "colab_type": "text"
      },
      "source": [
        "**intro41.digitDegree**\n",
        "\n",
        "Let's define digit degree of some positive integer as the number of times we need to replace this number with the sum of its digits until we get to a one digit number.\n",
        "\n",
        "Given an integer, find its digit degree."
      ]
    },
    {
      "cell_type": "code",
      "metadata": {
        "id": "6RulEkHMHUl3",
        "colab_type": "code",
        "colab": {}
      },
      "source": [
        "def digitDegree(n):\n",
        "  answer = 0\n",
        "  #10보다 작으면 0을 반환한다.\n",
        "  if n < 10 :\n",
        "    return 0\n",
        "  #10이상이면 \n",
        "  else :\n",
        "    while 1:\n",
        "      #answer에 1을 더하고\n",
        "      answer += 1\n",
        "      #n에 n의 각 자릿수를 더한 것을 대입\n",
        "      n = sum([int(ch) for ch in (str(n))])\n",
        "      #n이 10미만이면\n",
        "      if n < 10 :\n",
        "        #answer 반환\n",
        "        return answer\n",
        "\n",
        "'''\n",
        "변수의 흐름을 잘 잡자.\n",
        "애초에 잘 설정해두면 좋을 것 같다.\n",
        "자꾸 바꾸니 헷갈리네\n"
      ],
      "execution_count": 0,
      "outputs": []
    },
    {
      "cell_type": "markdown",
      "metadata": {
        "id": "1S1HbcDSNT66",
        "colab_type": "text"
      },
      "source": [
        "**intro42.Bishop and Pawn**\n",
        "\n",
        "Given the positions of a white bishop and a black pawn on the standard chess board, determine whether the bishop can capture the pawn in one move."
      ]
    },
    {
      "cell_type": "code",
      "metadata": {
        "id": "bD8YGC1lNi3l",
        "colab_type": "code",
        "colab": {}
      },
      "source": [
        "def bishopAndPawn(bishop, pawn):\n",
        "  return abs(ord(bishop[0]) - ord(pawn[0])) == abs(int(bishop[1]) - int(pawn[1]))\n",
        "\n",
        "'''\n",
        "문자열 자리를 아스키 코드로 바꾼 후의 차이와\n",
        "숫자 자리의 차이가 같다면 대각선상에 존재하는 것이다.\n",
        "'''"
      ],
      "execution_count": 0,
      "outputs": []
    },
    {
      "cell_type": "markdown",
      "metadata": {
        "id": "84DZiNWyOfuC",
        "colab_type": "text"
      },
      "source": [
        "**intro43.isBeautifulString**\n",
        "\n",
        "A string is said to be beautiful if each letter in the string appears at most as many times as the previous letter in the alphabet within the string; ie: b occurs no more times than a; c occurs no more times than b; etc.\n",
        "\n",
        "Given a string, check whether it is beautiful."
      ]
    },
    {
      "cell_type": "code",
      "metadata": {
        "id": "3294F2-EJUl5",
        "colab_type": "code",
        "colab": {}
      },
      "source": [
        "def isBeautifulString(inputString):\n",
        "  temp_count = 51\n",
        "  from string import ascii_lowercase\n",
        "  #input의 문자열 set을 이용해 나오는 문자열들 리스트로 정리\n",
        "  digit = list(ascii_lowercase)\n",
        "  #digit리스트 정렬\n",
        "  digit.sort()\n",
        "  #digit리스트를 기준으로 문자열 count\n",
        "  for ch in digit:\n",
        "    #전의 문자열의 등장횟수가 이번 문자열의 등장 횟수보다 적다면\n",
        "    if inputString.count(ch) > temp_count:\n",
        "      #거짓\n",
        "      return False\n",
        "    #아니라면\n",
        "    else :\n",
        "      #temp_count에 이번 문자열의 등장횟수 대입\n",
        "      temp_count = inputString.count(ch)\n",
        "      print(temp_count)\n",
        "  #반복문을 탈출했다면 True\n",
        "  return True\n",
        "'''\n",
        "문제를 꼼꼼히 읽자.\n",
        "set해서 해결되는 게 아니라\n",
        "a가 등장하지 않으면 b부터도 등장하지 않았어야 했네,\n",
        "그럼 공백은 True겠군,\n",
        "'''"
      ],
      "execution_count": 0,
      "outputs": []
    },
    {
      "cell_type": "markdown",
      "metadata": {
        "id": "j895hjQjSM6K",
        "colab_type": "text"
      },
      "source": [
        "**intro44. Find Email Domain**\n",
        "\n",
        "An email address such as \"John.Smith@example.com\" is made up of a local part (\"John.Smith\"), an \"@\" symbol, then a domain part (\"example.com\").\n",
        "\n",
        "The domain name part of an email address may only consist of letters, digits, hyphens and dots. The local part, however, also allows a lot of different special characters. Here you can look at several examples of correct and incorrect email addresses.\n",
        "\n",
        "Given a valid email address, find its domain part."
      ]
    },
    {
      "cell_type": "code",
      "metadata": {
        "id": "8osqDmz9SzBJ",
        "colab_type": "code",
        "colab": {}
      },
      "source": [
        "def findEmailDomain(address):\n",
        "  return address[address.rfind(\"@\") + 1 :]\n",
        "\n",
        "'''\n",
        "rfind를 이용해 마지막 @의 위치를 찾고\n",
        "슬라이싱을 이용해 그 다음부터의 문자열을\n",
        "반환하게 하였다.\n",
        "'''"
      ],
      "execution_count": 0,
      "outputs": []
    }
  ]
}