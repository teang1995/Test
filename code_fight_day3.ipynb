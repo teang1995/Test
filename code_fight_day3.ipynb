{
  "nbformat": 4,
  "nbformat_minor": 0,
  "metadata": {
    "colab": {
      "name": "code_fight_day3.ipynb",
      "provenance": [],
      "collapsed_sections": [],
      "include_colab_link": true
    },
    "kernelspec": {
      "name": "python3",
      "display_name": "Python 3"
    }
  },
  "cells": [
    {
      "cell_type": "markdown",
      "metadata": {
        "id": "view-in-github",
        "colab_type": "text"
      },
      "source": [
        "<a href=\"https://colab.research.google.com/github/teang1995/python_study/blob/master/code_fight_day3.ipynb\" target=\"_parent\"><img src=\"https://colab.research.google.com/assets/colab-badge.svg\" alt=\"Open In Colab\"/></a>"
      ]
    },
    {
      "cell_type": "markdown",
      "metadata": {
        "id": "qjXAcAG4z8PD",
        "colab_type": "text"
      },
      "source": [
        "**intro14.alternatingSum**"
      ]
    },
    {
      "cell_type": "code",
      "metadata": {
        "id": "bsyeAL5rgtmj",
        "colab_type": "code",
        "colab": {}
      },
      "source": [
        "def alternatingSums(a):\n",
        "    sum_first  = sum(a[::2])\n",
        "    sum_second = sum(a[1::2])\n",
        "    return [sum_first,sum_second]\n",
        "\n",
        "'''\n",
        "c언어적 코딩에서 벗어나려는\n",
        "나의 필사적인 몸부림이 담긴 코드\n",
        "for문 써서 하나씩 더하려는 뇌를 간신히 붙잡고,\n",
        "슬라이싱이라는 멋진 도구를 생각해냈다.\n",
        "'''"
      ],
      "execution_count": 0,
      "outputs": []
    },
    {
      "cell_type": "markdown",
      "metadata": {
        "id": "87MxLDwZ0Yga",
        "colab_type": "text"
      },
      "source": [
        "**intro15.AddBorder**"
      ]
    },
    {
      "cell_type": "code",
      "metadata": {
        "id": "cszoYwh_0dew",
        "colab_type": "code",
        "colab": {}
      },
      "source": [
        "def addBorder(picture):\n",
        "  picture.append(\"*\" * (len(picture[0]) + 2))\n",
        "  picture.insert(0,\"*\" * (len(picture[0]) + 2))\n",
        "  for i in range(1,len(picture)-1):\n",
        "    picture [i] = \"*\" + picture[i] + \"*\"\n",
        "  return picture\n",
        "\n",
        "'''\n",
        "리스트 맨 앞에 요소를 추가하는 방법을 알게 해준 문제.\n",
        "속도를 고려한다면, class collections.deque([iterable[, maxlen]])\n",
        "를 사용하는 것이 좋다고 한다.\n",
        "insert는 시간복잡도가 O(n)이지만, deque의 시간복잡도는 O(1)이기 때문.\n",
        "'''"
      ],
      "execution_count": 0,
      "outputs": []
    },
    {
      "cell_type": "markdown",
      "metadata": {
        "id": "_q1yILcz5a_X",
        "colab_type": "text"
      },
      "source": [
        "**intro16.areSimilar**"
      ]
    },
    {
      "cell_type": "code",
      "metadata": {
        "id": "4Hpe8bIO09CH",
        "colab_type": "code",
        "colab": {}
      },
      "source": [
        "def areSimilar(a, b):\n",
        "  dif1_a = 0\n",
        "  dif2_a = 0\n",
        "  dif1_b = 0\n",
        "  dif2_b = 0\n",
        "  count = 0\n",
        "  for i in range(len(a)):\n",
        "    if a[i] != b[i]:\n",
        "      if count == 0:\n",
        "        dif1_a = a[i]\n",
        "        dif1_b = b[i]\n",
        "        count += 1 \n",
        "      elif count == 1:\n",
        "        dif2_a = a[i]\n",
        "        dif2_b = b[i]\n",
        "        count += 1\n",
        "      else :\n",
        "        return False\n",
        "  if count == 1:\n",
        "    return False\n",
        "  if (dif1_a == dif2_b and dif2_a == dif1_b) :\n",
        "    return True\n",
        "  else :\n",
        "    return False\n",
        "\n",
        "'''\n",
        "분명 섹시한 방법이 있을 거야..\n",
        "쩐다.\n",
        "def areSimilar(a, b):\n",
        "    return sorted(a) == sorted(b) and sum([i != j for i,j in zip(a,b)])<3\n",
        "[출처] [python] codeSignal 문제풀이 (16~18)|작성자 Jun\n",
        "이게 다라니...\n",
        "이 코드를 해석해보면,\n",
        "1. 입력으로 받은 리스트 a,b의 정렬된 결과가 같을 것. == 같은 요소를 같은 갯수만큼 포함해야 함.\n",
        "2. 두 리스트를 조회하며 위치가 다른 숫자가 3개 미만일 것. == 두 개까지만 달라야 함.\n",
        "\n",
        "그럼 하나의 숫자만 다른 경우는 어떡할까? 라는 생각이 잠시 들었는데,. 그런 경우\n",
        "정렬의 결과가 달라져 1번 조건에 의해 걸러진다.\n",
        "멋진 코드!\n",
        "'''"
      ],
      "execution_count": 0,
      "outputs": []
    },
    {
      "cell_type": "markdown",
      "metadata": {
        "id": "t1hKn5vOBPyM",
        "colab_type": "text"
      },
      "source": [
        "**intro16.areSimilar - about \"zip\"**"
      ]
    },
    {
      "cell_type": "code",
      "metadata": {
        "id": "To9PC9ur7iPr",
        "colab_type": "code",
        "colab": {}
      },
      "source": [
        "a = [1,2,3]\n",
        "b = [2,3,4]\n",
        "for i,j in zip(a,b):\n",
        "  print(i,j)\n",
        "print(list(zip(a,b)))"
      ],
      "execution_count": 0,
      "outputs": []
    },
    {
      "cell_type": "markdown",
      "metadata": {
        "id": "e2t3w2LTC0P-",
        "colab_type": "text"
      },
      "source": [
        "**intro17.arrayChange**"
      ]
    },
    {
      "cell_type": "code",
      "metadata": {
        "id": "X7pXxT7B7iIe",
        "colab_type": "code",
        "colab": {
          "base_uri": "https://localhost:8080/",
          "height": 35
        },
        "outputId": "91e133a3-b44f-4a79-97b2-b099309a94a1"
      },
      "source": [
        "def arrayChange(inputArray):\n",
        "  sum = 0\n",
        "  for i in range(0,len(inputArray)-1):\n",
        "    if inputArray[i] >= inputArray[i+1]:\n",
        "      sum += inputArray[i] - inputArray[i+1] + 1\n",
        "      inputArray[i+1] = inputArray[i] + 1\n",
        "  return sum\n",
        "'''\n",
        "분명.. 또 섹시한 방법이 있을 것이다..\n",
        "이건 없네 ㅎㅎ\n",
        "'''"
      ],
      "execution_count": 30,
      "outputs": [
        {
          "output_type": "stream",
          "text": [
            "1\n"
          ],
          "name": "stdout"
        }
      ]
    },
    {
      "cell_type": "markdown",
      "metadata": {
        "id": "jsEA73TFFTqs",
        "colab_type": "text"
      },
      "source": [
        "**intro18.palindromeRearranging**\n"
      ]
    },
    {
      "cell_type": "code",
      "metadata": {
        "id": "0eMluOoRFco9",
        "colab_type": "code",
        "colab": {}
      },
      "source": [
        "def palindromeRearranging(inputString):\n",
        "    set_digit = set(list(inputString))\n",
        "    is_first = True\n",
        "    for x in set_digit:\n",
        "        if list(inputString).count(x) % 2 != 0 :\n",
        "            if is_first :\n",
        "                is_first = False\n",
        "            else :\n",
        "                return False\n",
        "    return True\n",
        "\n",
        "'''\n",
        "섹시한 코딩\n",
        "return sum([inputString.count(i)%2 for i in set(inputString)]) <= 1\n",
        "[출처] [python] codeSignal 문제풀이 (16~18)|작성자 Jun\n",
        "존멋..\n",
        "\n",
        "해석해보자면\n",
        "set으로 입력으로 받은 string에 있는 문자의 가짓수를 파악한 후,\n",
        "각 문자 하나의 출현?횟수가 홀수인 경우가 1번 이하인가?에 대한 대답을 반환한다.\n",
        "'''"
      ],
      "execution_count": 0,
      "outputs": []
    },
    {
      "cell_type": "markdown",
      "metadata": {
        "id": "CzPDjpuWINJf",
        "colab_type": "text"
      },
      "source": [
        "**intro19.areEquallyStrong**"
      ]
    },
    {
      "cell_type": "code",
      "metadata": {
        "id": "QDan0fN2ITIl",
        "colab_type": "code",
        "colab": {}
      },
      "source": [
        "def areEquallyStrong(yourLeft, yourRight, friendsLeft, friendsRight):\n",
        "    you = [yourLeft,yourRight]\n",
        "    friend = [friendsLeft,friendsRight]\n",
        "    return you == friend or you == list(reversed(friend))\n",
        "'''\n",
        "오타 조심,,\n",
        "set을 사용하면 더욱 멋진 코딩 가능\n",
        "'''"
      ],
      "execution_count": 0,
      "outputs": []
    },
    {
      "cell_type": "markdown",
      "metadata": {
        "id": "xwpv2_LNIsas",
        "colab_type": "text"
      },
      "source": [
        "**intro20.arrayMaximalAdjacentDifference**"
      ]
    },
    {
      "cell_type": "code",
      "metadata": {
        "id": "rJdqhakWIpXa",
        "colab_type": "code",
        "colab": {}
      },
      "source": [
        "def arrayMaximalAdjacentDifference(inputArray):\n",
        "    max_dif = 0\n",
        "    for i in range(len(inputArray)-1):\n",
        "        if abs(inputArray[i + 1] - inputArray[i]) > max_dif:\n",
        "            max_dif = abs(inputArray[i + 1] - inputArray[i])\n",
        "    return max_dif\n",
        "\n",
        "'''\n",
        "def arrayMaximalAdjacentDifference(a):\n",
        "    diffs=[abs(a[i]-a[i+1]) for i in range(len(a)-1)]\n",
        "    return max(diffs)\n",
        "차이의 절댓값을 이용해 리스틀 만들고, 최댓값을 반환한다.\n",
        "'''"
      ],
      "execution_count": 0,
      "outputs": []
    }
  ]
}