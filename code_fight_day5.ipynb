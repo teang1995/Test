{
  "nbformat": 4,
  "nbformat_minor": 0,
  "metadata": {
    "colab": {
      "name": "code_fight_day5.ipynb",
      "provenance": [],
      "collapsed_sections": [],
      "include_colab_link": true
    },
    "kernelspec": {
      "name": "python3",
      "display_name": "Python 3"
    }
  },
  "cells": [
    {
      "cell_type": "markdown",
      "metadata": {
        "id": "view-in-github",
        "colab_type": "text"
      },
      "source": [
        "<a href=\"https://colab.research.google.com/github/teang1995/python_study/blob/master/code_fight_day5.ipynb\" target=\"_parent\"><img src=\"https://colab.research.google.com/assets/colab-badge.svg\" alt=\"Open In Colab\"/></a>"
      ]
    },
    {
      "cell_type": "markdown",
      "metadata": {
        "id": "4a6uDHDeeFkf",
        "colab_type": "text"
      },
      "source": [
        "**intro27.variableName**"
      ]
    },
    {
      "cell_type": "code",
      "metadata": {
        "id": "0MdRLApt5QGG",
        "colab_type": "code",
        "colab": {}
      },
      "source": [
        "def variableName(name):\n",
        "  name_list = list(name)\n",
        "  return (name_list[0].isalpha() or name_list[0] == \"_\") and all(x.isalpha() or x.isdigit() or x == \"_\" for x in name_list)\n",
        "\n",
        "'''\n",
        "all을 사용할 땐\n",
        "iterable한 요소를 넣어주어야 함.\n",
        "'''"
      ],
      "execution_count": 0,
      "outputs": []
    },
    {
      "cell_type": "markdown",
      "metadata": {
        "id": "EkOrUD6EjY_n",
        "colab_type": "text"
      },
      "source": [
        "**intro28.alphabeticShift**"
      ]
    },
    {
      "cell_type": "code",
      "metadata": {
        "id": "r56pMUXOjeLF",
        "colab_type": "code",
        "colab": {}
      },
      "source": [
        "def alphabeticShift(inputString):\n",
        "  inputList = list(inputString)\n",
        "  answer = \"\"\n",
        "  return answer.join(chr(ord(inputList[i]) + 1)if ord(inputList[i]) < 122 else \"a\" for i in range(len(inputList)))\n",
        "'''\n",
        "def alphabeticShift(s):\n",
        "    return \"\".join(chr((ord(i)-96)%26+97) for i in s)\n",
        "[출처] [python] codeSignal 문제풀이 (28~30)|작성자 Jun\n",
        "나름 줄여봤다고 생각했는데\n",
        "나머지를 이용해 더 깐지나는 코드를 작성할 수 있음을 알 수 있었다.\n",
        "'''"
      ],
      "execution_count": 0,
      "outputs": []
    },
    {
      "cell_type": "markdown",
      "metadata": {
        "id": "Isj-jFCvm6y1",
        "colab_type": "text"
      },
      "source": [
        "**intro29.chessBoardCellColor**"
      ]
    },
    {
      "cell_type": "code",
      "metadata": {
        "id": "mDU8c742pPEb",
        "colab_type": "code",
        "colab": {}
      },
      "source": [
        "def chessBoardCellColor(cell1, cell2):\n",
        "  c1 = list(cell1)\n",
        "  c2 = list(cell2)\n",
        "  if int(c1[1]) % 2 == int(c2[1]) % 2:\n",
        "    return ord(c1[0]) % 2 == ord(c2[0]) % 2\n",
        "  else :\n",
        "    return ord(c1[0]) % 2 != ord(c2[0]) % 2"
      ],
      "execution_count": 0,
      "outputs": []
    },
    {
      "cell_type": "markdown",
      "metadata": {
        "id": "epLVrrELvdOo",
        "colab_type": "text"
      },
      "source": [
        "**intro30.Circle of Numbers**"
      ]
    },
    {
      "cell_type": "code",
      "metadata": {
        "id": "4crThajOvc8R",
        "colab_type": "code",
        "colab": {}
      },
      "source": [
        "def circleOfNumbers(n, firstNumber):\n",
        "    return firstNumber + n//2 if firstNumber < n//2 else  firstNumber - n//2\n",
        "'''\n",
        "간단한 문제였다.\n",
        "def circleOfNumbers(n, firstNumber):\n",
        "\n",
        "    return (firstNumber + n/2)%n\n",
        "[출처] [python] codeSignal 문제풀이 (28~30)|작성자 Jun\n",
        "이런 생각이 잘 나야 할텐데..\n",
        "'''"
      ],
      "execution_count": 0,
      "outputs": []
    },
    {
      "cell_type": "markdown",
      "metadata": {
        "id": "_qL6h-ywwE1H",
        "colab_type": "text"
      },
      "source": [
        "**intro31.depositProfit**"
      ]
    },
    {
      "cell_type": "code",
      "metadata": {
        "id": "m5PXQRJTwIBn",
        "colab_type": "code",
        "colab": {}
      },
      "source": [
        "def depositProfit(deposit, rate, threshold):\n",
        "  count = 0\n",
        "  while 1:\n",
        "    deposit = deposit * (1 + rate / 100)\n",
        "    count += 1\n",
        "    if threshold <= deposit : \n",
        "      return count \n",
        "'''\n",
        "간단한 문제.\n"
      ],
      "execution_count": 0,
      "outputs": []
    },
    {
      "cell_type": "markdown",
      "metadata": {
        "id": "JGgxkrA-xUdq",
        "colab_type": "text"
      },
      "source": [
        "**intro32.absoluteValuesSumMinimization**"
      ]
    },
    {
      "cell_type": "code",
      "metadata": {
        "id": "-NI_epmrxZcH",
        "colab_type": "code",
        "colab": {}
      },
      "source": [
        "def absoluteValuesSumMinimization(a):\n",
        "    list_sum = [sum(abs(num - a[i]) for num in a) for i in range(len(a))]\n",
        "    return a[list_sum.index(min(list_sum))]\n",
        "\n",
        "'''\n",
        "조금 감이 온다.\n",
        "def absoluteValuesSumMinimization(A):\n",
        "    return A[(len(A)-1)//2]\n",
        "[출처] [python] codeSignal 문제풀이 (31~33)|작성자 Jun\n",
        "\n",
        "\n",
        "위의 코드는 고등학교 때 배운 개념을 적용한 코드\n",
        "멋지다,\n",
        "'''"
      ],
      "execution_count": 0,
      "outputs": []
    }
  ]
}