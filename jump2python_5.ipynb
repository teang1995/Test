{
  "nbformat": 4,
  "nbformat_minor": 0,
  "metadata": {
    "colab": {
      "name": "jump2python_5.ipynb",
      "provenance": [],
      "collapsed_sections": [],
      "include_colab_link": true
    },
    "kernelspec": {
      "name": "python3",
      "display_name": "Python 3"
    }
  },
  "cells": [
    {
      "cell_type": "markdown",
      "metadata": {
        "id": "view-in-github",
        "colab_type": "text"
      },
      "source": [
        "<a href=\"https://colab.research.google.com/github/teang1995/jump2python/blob/master/jump2python_5.ipynb\" target=\"_parent\"><img src=\"https://colab.research.google.com/assets/colab-badge.svg\" alt=\"Open In Colab\"/></a>"
      ]
    },
    {
      "cell_type": "markdown",
      "metadata": {
        "id": "IalODPZOKMhQ",
        "colab_type": "text"
      },
      "source": [
        "**객체와 인스턴스의 차이**"
      ]
    },
    {
      "cell_type": "code",
      "metadata": {
        "id": "T-1Ms4xV0hFE",
        "colab_type": "code",
        "colab": {}
      },
      "source": [
        "'''\n",
        "클래스를 만든 객체를 인스턴스라고 한다.\n",
        "객체와 인스턴스의 차이는?\n",
        "객체 : a는 객체이다.\n",
        "인스턴스 : a는 cookie의 인스턴스이다.\n",
        "'''"
      ],
      "execution_count": 0,
      "outputs": []
    },
    {
      "cell_type": "markdown",
      "metadata": {
        "id": "kZj5ob3nKPkV",
        "colab_type": "text"
      },
      "source": [
        "**eval 사용법**"
      ]
    },
    {
      "cell_type": "code",
      "metadata": {
        "id": "9pnou6A9YKCF",
        "colab_type": "code",
        "outputId": "0db37606-e226-4057-fe47-33c21baaee04",
        "colab": {
          "base_uri": "https://localhost:8080/",
          "height": 35
        }
      },
      "source": [
        "eval(\"1+2\")"
      ],
      "execution_count": 0,
      "outputs": [
        {
          "output_type": "execute_result",
          "data": {
            "text/plain": [
              "3"
            ]
          },
          "metadata": {
            "tags": []
          },
          "execution_count": 3
        }
      ]
    },
    {
      "cell_type": "markdown",
      "metadata": {
        "id": "IAszec1fYhja",
        "colab_type": "text"
      },
      "source": [
        "**map사용법**"
      ]
    },
    {
      "cell_type": "code",
      "metadata": {
        "id": "f5Vi5V0LYjTj",
        "colab_type": "code",
        "outputId": "41604637-7928-457a-e2f3-0c7f9b17d6b7",
        "colab": {
          "base_uri": "https://localhost:8080/",
          "height": 35
        }
      },
      "source": [
        "def twice(x):\n",
        "  return 2*x\n",
        "#입력으로 반복가능한 자료형을 받고., 출력으로 묶어서 돌려줌\n",
        "list(map(twice,[1,2,3,4]))"
      ],
      "execution_count": 0,
      "outputs": [
        {
          "output_type": "execute_result",
          "data": {
            "text/plain": [
              "[2, 4, 6, 8]"
            ]
          },
          "metadata": {
            "tags": []
          },
          "execution_count": 4
        }
      ]
    },
    {
      "cell_type": "markdown",
      "metadata": {
        "id": "dTpyUXFHZGP7",
        "colab_type": "text"
      },
      "source": [
        "**5-1**"
      ]
    },
    {
      "cell_type": "code",
      "metadata": {
        "id": "BSB3DD4QZHaD",
        "colab_type": "code",
        "outputId": "8e40e191-f30b-4604-d266-9dc0c8e32a7f",
        "colab": {
          "base_uri": "https://localhost:8080/",
          "height": 35
        }
      },
      "source": [
        "class Calculator:\n",
        "    def __init__(self):\n",
        "        self.value = 0\n",
        "\n",
        "    def add(self, val):\n",
        "        self.value += val\n",
        "\n",
        "class UpgradeCalculator(Calculator):\n",
        "  def minus(self,val):\n",
        "    self.value -= val\n",
        "\n",
        "cal = UpgradeCalculator()\n",
        "cal.add(10)\n",
        "cal.minus(7)\n",
        "\n",
        "print(cal.value) # 10에서 7을 뺀 3을 출력"
      ],
      "execution_count": 0,
      "outputs": [
        {
          "output_type": "stream",
          "text": [
            "3\n"
          ],
          "name": "stdout"
        }
      ]
    },
    {
      "cell_type": "markdown",
      "metadata": {
        "id": "-U9KQIS9ZeSD",
        "colab_type": "text"
      },
      "source": [
        "**5-2**"
      ]
    },
    {
      "cell_type": "code",
      "metadata": {
        "id": "uRDRgLB6ZgEr",
        "colab_type": "code",
        "outputId": "f09b676e-e36c-41ec-c4b3-3d52723df081",
        "colab": {
          "base_uri": "https://localhost:8080/",
          "height": 35
        }
      },
      "source": [
        "class Calculator:\n",
        "    def __init__(self):\n",
        "        self.value = 0\n",
        "\n",
        "    def add(self, val):\n",
        "        self.value += val\n",
        "\n",
        "class MaxLimitCalculator(Calculator):\n",
        "  def add(self,val):\n",
        "    if self.value + val >= 100 :\n",
        "      self.value = 100\n",
        "    else :\n",
        "      self.value += val\n",
        "\n",
        "cal = MaxLimitCalculator()\n",
        "cal.add(50) # 50 더하기\n",
        "cal.add(60) # 60 더하기\n",
        "\n",
        "print(cal.value) # 100 출력"
      ],
      "execution_count": 0,
      "outputs": [
        {
          "output_type": "stream",
          "text": [
            "100\n"
          ],
          "name": "stdout"
        }
      ]
    },
    {
      "cell_type": "markdown",
      "metadata": {
        "id": "6FkxEaSnbH5V",
        "colab_type": "text"
      },
      "source": [
        "**5-3**"
      ]
    },
    {
      "cell_type": "code",
      "metadata": {
        "id": "JaE6pYo7bJqk",
        "colab_type": "code",
        "outputId": "01ca53e0-7e36-440f-8d93-141d1fafd3f1",
        "colab": {
          "base_uri": "https://localhost:8080/",
          "height": 35
        }
      },
      "source": [
        "all([1, 2, abs(-3)-3])   #1,2,(3-3) 중 0이 있으므로 false\n",
        "chr(ord('a')) == 'a'     #암튼 true"
      ],
      "execution_count": 0,
      "outputs": [
        {
          "output_type": "execute_result",
          "data": {
            "text/plain": [
              "True"
            ]
          },
          "metadata": {
            "tags": []
          },
          "execution_count": 11
        }
      ]
    },
    {
      "cell_type": "markdown",
      "metadata": {
        "id": "Nf7Df4Ndbcg8",
        "colab_type": "text"
      },
      "source": [
        "**5-4**"
      ]
    },
    {
      "cell_type": "code",
      "metadata": {
        "id": "iUXOD28YbeKD",
        "colab_type": "code",
        "outputId": "8833745e-22aa-42c3-8e3a-b60dd3fd2144",
        "colab": {
          "base_uri": "https://localhost:8080/",
          "height": 35
        }
      },
      "source": [
        "#filter와 lambda를 사용하여 리스트 [1, -2, 3, -5, 8, -3]에서 음수를 모두 제거해 보자.\n",
        "a = [1,-2,3,-5,8,-3]\n",
        "list(filter(lambda x:x>0,a))"
      ],
      "execution_count": 0,
      "outputs": [
        {
          "output_type": "stream",
          "text": [
            "<class 'filter'>\n"
          ],
          "name": "stdout"
        }
      ]
    },
    {
      "cell_type": "markdown",
      "metadata": {
        "id": "hB5nD-BWkybr",
        "colab_type": "text"
      },
      "source": [
        "**5-6**"
      ]
    },
    {
      "cell_type": "code",
      "metadata": {
        "id": "6Pq_w64Nkz-Z",
        "colab_type": "code",
        "outputId": "a22502be-6967-4cff-80db-56c4e2575c00",
        "colab": {
          "base_uri": "https://localhost:8080/",
          "height": 35
        }
      },
      "source": [
        "#map과 lambda를 사용하여 [1, 2, 3, 4] 리스트의 각 요솟값에 3이 곱해진 리스트 [3, 6, 9, 12]를 만들어 보자.\n",
        "a = [1,2,3,4]\n",
        "list(map(lambda x:x*3,a))"
      ],
      "execution_count": 0,
      "outputs": [
        {
          "output_type": "execute_result",
          "data": {
            "text/plain": [
              "[3, 6, 9, 12]"
            ]
          },
          "metadata": {
            "tags": []
          },
          "execution_count": 15
        }
      ]
    },
    {
      "cell_type": "markdown",
      "metadata": {
        "id": "DSVBbuYmlI-F",
        "colab_type": "text"
      },
      "source": [
        "**5-7**"
      ]
    },
    {
      "cell_type": "code",
      "metadata": {
        "id": "KXLihmJIlKQa",
        "colab_type": "code",
        "outputId": "22183705-eea4-432d-ff48-d25d166d7b80",
        "colab": {
          "base_uri": "https://localhost:8080/",
          "height": 53
        }
      },
      "source": [
        "a=[-8, 2, 7, 5, -3, 5, 0, 1]\n",
        "print(max(a))\n",
        "print(min(a))"
      ],
      "execution_count": 0,
      "outputs": [
        {
          "output_type": "stream",
          "text": [
            "7\n",
            "-8\n"
          ],
          "name": "stdout"
        }
      ]
    }
  ]
}