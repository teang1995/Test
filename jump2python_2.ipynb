{
  "nbformat": 4,
  "nbformat_minor": 0,
  "metadata": {
    "colab": {
      "name": "jump2python_2.ipynb",
      "provenance": [],
      "collapsed_sections": [],
      "include_colab_link": true
    },
    "kernelspec": {
      "name": "python3",
      "display_name": "Python 3"
    },
    "accelerator": "GPU"
  },
  "cells": [
    {
      "cell_type": "markdown",
      "metadata": {
        "id": "view-in-github",
        "colab_type": "text"
      },
      "source": [
        "<a href=\"https://colab.research.google.com/github/teang1995/Test/blob/master/jump2python_2.ipynb\" target=\"_parent\"><img src=\"https://colab.research.google.com/assets/colab-badge.svg\" alt=\"Open In Colab\"/></a>"
      ]
    },
    {
      "cell_type": "markdown",
      "metadata": {
        "id": "SPFZyXgVl05W",
        "colab_type": "text"
      },
      "source": [
        "**2-1**"
      ]
    },
    {
      "cell_type": "code",
      "metadata": {
        "id": "INb990wwl6q-",
        "colab_type": "code",
        "outputId": "3b74060f-a043-4a9c-da59-0570ad3e5d8b",
        "colab": {
          "base_uri": "https://localhost:8080/",
          "height": 35
        }
      },
      "source": [
        "korean = 80\n",
        "english = 75\n",
        "math = 55\n",
        "\n",
        "avg = (korean+english+math)/3\n",
        "print(avg)"
      ],
      "execution_count": 0,
      "outputs": [
        {
          "output_type": "stream",
          "text": [
            "70.0\n"
          ],
          "name": "stdout"
        }
      ]
    },
    {
      "cell_type": "markdown",
      "metadata": {
        "id": "XDeN0NGtmQLt",
        "colab_type": "text"
      },
      "source": [
        "**2-2**"
      ]
    },
    {
      "cell_type": "code",
      "metadata": {
        "id": "rndd-ks8mTfN",
        "colab_type": "code",
        "outputId": "929b56c2-a1bb-47de-eb4d-6ff3ad1fc5dc",
        "colab": {
          "base_uri": "https://localhost:8080/",
          "height": 53
        }
      },
      "source": [
        "ans_arr = [\"짝수입니다\",\"홀수입니다\"]\n",
        "num = int(input())\n",
        "print(ans_arr[num%2])"
      ],
      "execution_count": 0,
      "outputs": [
        {
          "output_type": "stream",
          "text": [
            "13\n",
            "홀수입니다\n"
          ],
          "name": "stdout"
        }
      ]
    },
    {
      "cell_type": "markdown",
      "metadata": {
        "id": "6DWhVpGvm1Oz",
        "colab_type": "text"
      },
      "source": [
        "**2-3**"
      ]
    },
    {
      "cell_type": "code",
      "metadata": {
        "id": "TwE-TUrsm27T",
        "colab_type": "code",
        "outputId": "dc59efaf-d248-4fb0-d014-76ff546f4d62",
        "colab": {
          "base_uri": "https://localhost:8080/",
          "height": 53
        }
      },
      "source": [
        "id = input(\"홍길동씨의 주민등록번호를 입력하세요\")\n",
        "list = id.split(\"-\")\n",
        "print(list)"
      ],
      "execution_count": 0,
      "outputs": [
        {
          "output_type": "stream",
          "text": [
            "홍길동씨의 주민등록번호를 입력하세요950919-1171311\n",
            "['950919', '1171311']\n"
          ],
          "name": "stdout"
        }
      ]
    },
    {
      "cell_type": "markdown",
      "metadata": {
        "id": "yOHjdfjunKrL",
        "colab_type": "text"
      },
      "source": [
        "**2-4**"
      ]
    },
    {
      "cell_type": "code",
      "metadata": {
        "id": "0mG-P5W3nN1z",
        "colab_type": "code",
        "outputId": "40a17e81-dc27-4a98-bcda-295698dcaf40",
        "colab": {
          "base_uri": "https://localhost:8080/",
          "height": 53
        }
      },
      "source": [
        "id = input(\"홍길동씨의 주민등록번호를 입력하세요\")\n",
        "print(id[7])"
      ],
      "execution_count": 0,
      "outputs": [
        {
          "output_type": "stream",
          "text": [
            "홍길동씨의 주민등록번호를 입력하세요950919-1171311\n",
            "1\n"
          ],
          "name": "stdout"
        }
      ]
    },
    {
      "cell_type": "markdown",
      "metadata": {
        "id": "J51IutAPnhD6",
        "colab_type": "text"
      },
      "source": [
        "**2-5**"
      ]
    },
    {
      "cell_type": "code",
      "metadata": {
        "id": "ncYLCsDFnkXS",
        "colab_type": "code",
        "outputId": "a15ea338-5c3e-4043-a38a-ca32e689a93e",
        "colab": {
          "base_uri": "https://localhost:8080/",
          "height": 35
        }
      },
      "source": [
        "a = \"a:b:c:d\"\n",
        "print(a.replace(\":\",\"#\"))"
      ],
      "execution_count": 0,
      "outputs": [
        {
          "output_type": "stream",
          "text": [
            "a#b#c#d\n"
          ],
          "name": "stdout"
        }
      ]
    },
    {
      "cell_type": "markdown",
      "metadata": {
        "id": "bH939THrn7uS",
        "colab_type": "text"
      },
      "source": [
        "**2-6**"
      ]
    },
    {
      "cell_type": "code",
      "metadata": {
        "id": "6PTur3qun9aJ",
        "colab_type": "code",
        "outputId": "e99bc5b8-68fb-413b-bfa3-7c097157b92c",
        "colab": {
          "base_uri": "https://localhost:8080/",
          "height": 35
        }
      },
      "source": [
        "a = [1,3,5,4,2]\n",
        "a.sort()#반환값이 없다. 그냥 정렬만 해준다\n",
        "a"
      ],
      "execution_count": 0,
      "outputs": [
        {
          "output_type": "execute_result",
          "data": {
            "text/plain": [
              "[1, 2, 3, 4, 5]"
            ]
          },
          "metadata": {
            "tags": []
          },
          "execution_count": 12
        }
      ]
    },
    {
      "cell_type": "markdown",
      "metadata": {
        "id": "m3ZDY7yPvr5b",
        "colab_type": "text"
      },
      "source": [
        "**2-7**"
      ]
    },
    {
      "cell_type": "code",
      "metadata": {
        "id": "lo7UJRJpvtpS",
        "colab_type": "code",
        "outputId": "67a084dd-7219-4a28-c5de-18e9d09a1e96",
        "colab": {
          "base_uri": "https://localhost:8080/",
          "height": 35
        }
      },
      "source": [
        "a = \" \"\n",
        "list1 =['Life', 'is', 'too', 'short']\n",
        "a = a.join(list1) #join또한 반환값은 없다. \n",
        "print(a)"
      ],
      "execution_count": 0,
      "outputs": [
        {
          "output_type": "stream",
          "text": [
            "Life is too short\n"
          ],
          "name": "stdout"
        }
      ]
    },
    {
      "cell_type": "markdown",
      "metadata": {
        "id": "J1aSUAaLw4Gw",
        "colab_type": "text"
      },
      "source": [
        "**2-8**"
      ]
    },
    {
      "cell_type": "code",
      "metadata": {
        "id": "5OdDpSXGw59P",
        "colab_type": "code",
        "outputId": "cf408cd2-2b5b-452b-d875-d28d2a6ae8ff",
        "colab": {
          "base_uri": "https://localhost:8080/",
          "height": 35
        }
      },
      "source": [
        "a = (1,2,3)\n",
        "a = a+ (4,)\n",
        "print(a)"
      ],
      "execution_count": 0,
      "outputs": [
        {
          "output_type": "stream",
          "text": [
            "(1, 2, 3, 4)\n"
          ],
          "name": "stdout"
        }
      ]
    },
    {
      "cell_type": "markdown",
      "metadata": {
        "id": "hYM8qWYJzG8M",
        "colab_type": "text"
      },
      "source": [
        "**2-9**"
      ]
    },
    {
      "cell_type": "code",
      "metadata": {
        "id": "poxZh5LbzGXc",
        "colab_type": "code",
        "outputId": "221801ad-6e1e-450c-85a7-bbd5f46ef978",
        "colab": {
          "base_uri": "https://localhost:8080/",
          "height": 208
        }
      },
      "source": [
        "a=dict()\n",
        "a\n",
        "a[[1]] = 'python'"
      ],
      "execution_count": 0,
      "outputs": [
        {
          "output_type": "error",
          "ename": "TypeError",
          "evalue": "ignored",
          "traceback": [
            "\u001b[0;31m---------------------------------------------------------------------------\u001b[0m",
            "\u001b[0;31mTypeError\u001b[0m                                 Traceback (most recent call last)",
            "\u001b[0;32m<ipython-input-27-379198ca6d2f>\u001b[0m in \u001b[0;36m<module>\u001b[0;34m()\u001b[0m\n\u001b[1;32m      1\u001b[0m \u001b[0ma\u001b[0m\u001b[0;34m=\u001b[0m\u001b[0mdict\u001b[0m\u001b[0;34m(\u001b[0m\u001b[0;34m)\u001b[0m\u001b[0;34m\u001b[0m\u001b[0;34m\u001b[0m\u001b[0m\n\u001b[1;32m      2\u001b[0m \u001b[0ma\u001b[0m\u001b[0;34m\u001b[0m\u001b[0;34m\u001b[0m\u001b[0m\n\u001b[0;32m----> 3\u001b[0;31m \u001b[0ma\u001b[0m\u001b[0;34m[\u001b[0m\u001b[0;34m[\u001b[0m\u001b[0;36m1\u001b[0m\u001b[0;34m]\u001b[0m\u001b[0;34m]\u001b[0m \u001b[0;34m=\u001b[0m \u001b[0;34m'python'\u001b[0m\u001b[0;34m\u001b[0m\u001b[0;34m\u001b[0m\u001b[0m\n\u001b[0m",
            "\u001b[0;31mTypeError\u001b[0m: unhashable type: 'list'"
          ]
        }
      ]
    },
    {
      "cell_type": "markdown",
      "metadata": {
        "id": "zc_HceprzXTD",
        "colab_type": "text"
      },
      "source": [
        "**2-10**"
      ]
    },
    {
      "cell_type": "code",
      "metadata": {
        "id": "62MZsVYdzWw0",
        "colab_type": "code",
        "outputId": "cef7f3c7-ab17-4fff-83b4-724d308fff38",
        "colab": {
          "base_uri": "https://localhost:8080/",
          "height": 35
        }
      },
      "source": [
        "a = {'A':90, 'B':80, 'C':70}\n",
        "a.pop('B')\n"
      ],
      "execution_count": 0,
      "outputs": [
        {
          "output_type": "execute_result",
          "data": {
            "text/plain": [
              "80"
            ]
          },
          "metadata": {
            "tags": []
          },
          "execution_count": 6
        }
      ]
    },
    {
      "cell_type": "markdown",
      "metadata": {
        "id": "YPdC8pOYhrRB",
        "colab_type": "text"
      },
      "source": [
        "**2-11**"
      ]
    },
    {
      "cell_type": "code",
      "metadata": {
        "id": "Q2xYRud9hshI",
        "colab_type": "code",
        "outputId": "fc991f65-0d61-4be0-ddd4-2a6c380cc233",
        "colab": {
          "base_uri": "https://localhost:8080/",
          "height": 35
        }
      },
      "source": [
        "a = [1,1,2,2,3,3,3]\n",
        "s1 = set(a)\n",
        "print(s1)"
      ],
      "execution_count": 0,
      "outputs": [
        {
          "output_type": "stream",
          "text": [
            "{1, 2, 3}\n"
          ],
          "name": "stdout"
        }
      ]
    },
    {
      "cell_type": "markdown",
      "metadata": {
        "id": "QNYpAOLkh0y3",
        "colab_type": "text"
      },
      "source": [
        "**2-12**"
      ]
    },
    {
      "cell_type": "code",
      "metadata": {
        "id": "TsKlseRlh2TA",
        "colab_type": "code",
        "outputId": "d0492376-fd39-4bae-d63f-4eb4e34f1497",
        "colab": {
          "base_uri": "https://localhost:8080/",
          "height": 35
        }
      },
      "source": [
        "a=b=[1,2,3] #깊은 복사/주솟값을 그대로 가져온다. 포인터 개념\n",
        "a[1]=4\n",
        "print(b)\n",
        "#얕은 복사들\n",
        "'''\n",
        "b=copy(a)\n",
        "b = a[:]\n",
        "'''"
      ],
      "execution_count": 0,
      "outputs": [
        {
          "output_type": "stream",
          "text": [
            "[1, 4, 3]\n"
          ],
          "name": "stdout"
        }
      ]
    }
  ]
}